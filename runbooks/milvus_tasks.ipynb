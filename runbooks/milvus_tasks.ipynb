{
 "cells": [
  {
   "cell_type": "markdown",
   "metadata": {},
   "source": [
    "## Kill running milvus task"
   ]
  },
  {
   "cell_type": "code",
   "execution_count": null,
   "metadata": {},
   "outputs": [
    {
     "name": "stdout",
     "output_type": "stream",
     "text": [
      "Checking for running processes listening on port 19530\n",
      "Found running process milvus on port 19530\n",
      "Found running process milvus on port 19530\n",
      "Killing Milvus process 68778\n"
     ]
    }
   ],
   "source": [
    "import sys\n",
    "sys.path.insert(0, \"..\")\n",
    "from src.utils.MilvusUtil import find_milvus_proc\n",
    "\n",
    "running_milvus_proc = find_milvus_proc(19530)\n",
    "if running_milvus_proc:\n",
    "    print(f\"Killing Milvus process {running_milvus_proc.pid}\")\n",
    "    running_milvus_proc.kill()\n",
    "else:\n",
    "    print(\"Milvus process not found\")"
   ]
  }
 ],
 "metadata": {
  "kernelspec": {
   "display_name": ".venv",
   "language": "python",
   "name": "python3"
  },
  "language_info": {
   "codemirror_mode": {
    "name": "ipython",
    "version": 3
   },
   "file_extension": ".py",
   "mimetype": "text/x-python",
   "name": "python",
   "nbconvert_exporter": "python",
   "pygments_lexer": "ipython3",
   "version": "3.11.4"
  }
 },
 "nbformat": 4,
 "nbformat_minor": 2
}
