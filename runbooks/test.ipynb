{
 "cells": [
  {
   "cell_type": "markdown",
   "metadata": {},
   "source": [
    "### Reload the dependencies"
   ]
  },
  {
   "cell_type": "code",
   "execution_count": 1,
   "metadata": {},
   "outputs": [],
   "source": [
    "%reload_ext autoreload\n",
    "%autoreload 2\n",
    "\n",
    "import sys\n",
    "sys.path.insert(0, \"..\")\n",
    "from src.core.Conversation import Conversation\n",
    "from src.core.Constants import Role, AgentName\n",
    "import json\n",
    "from typing import List, Dict"
   ]
  },
  {
   "cell_type": "markdown",
   "metadata": {},
   "source": [
    "### Reset the conversation"
   ]
  },
  {
   "cell_type": "code",
   "execution_count": 42,
   "metadata": {},
   "outputs": [],
   "source": [
    "# Create a new conversation\n",
    "conversation = Conversation()\n",
    "\n",
    "# Create the Pat agent using the rules in the pat_prompts.json file\n",
    "conversation.add_agent(AgentName.pat, \"pat_prompts.json\")\n",
    "\n",
    "# Create the User agent using the rules in the mock_user_prompts.json file\n",
    "conversation.add_agent(AgentName.mock_user, \"mock_user_prompts.json\")"
   ]
  },
  {
   "cell_type": "markdown",
   "metadata": {},
   "source": [
    "### Have GPT talk to itself"
   ]
  },
  {
   "cell_type": "code",
   "execution_count": null,
   "metadata": {},
   "outputs": [],
   "source": [
    "# Start the conversation, switching between the Pat and User agents, limiting the conversation to 5 turns\n",
    "conversation.converse(AgentName.pat, AgentName.mock_user, 5)"
   ]
  },
  {
   "cell_type": "markdown",
   "metadata": {},
   "source": [
    "### Have GPT talk to self, one back-and-forth at a time"
   ]
  },
  {
   "cell_type": "code",
   "execution_count": 47,
   "metadata": {},
   "outputs": [
    {
     "name": "stdout",
     "output_type": "stream",
     "text": [
      "Pat: Preparations aren’t necessary. You just need to answer the questions. \n",
      "\n",
      "Now, what is your name?\n",
      "Mock User: My name is Tom. It feels like I'm going in circles here. Are there any other questions I should be ready for, or is it just this one?\n"
     ]
    }
   ],
   "source": [
    "# Invoke 1 iteration of the conversation\n",
    "conversation.converse(AgentName.pat, AgentName.mock_user, 1)"
   ]
  },
  {
   "cell_type": "markdown",
   "metadata": {},
   "source": [
    "### Print the entire conversation history"
   ]
  },
  {
   "cell_type": "code",
   "execution_count": 40,
   "metadata": {},
   "outputs": [
    {
     "name": "stdout",
     "output_type": "stream",
     "text": [
      "None\n"
     ]
    }
   ],
   "source": [
    "convo = conversation.get_message_history_as_string()\n",
    "print(convo)"
   ]
  }
 ],
 "metadata": {
  "kernelspec": {
   "display_name": ".venv",
   "language": "python",
   "name": "python3"
  },
  "language_info": {
   "codemirror_mode": {
    "name": "ipython",
    "version": 3
   },
   "file_extension": ".py",
   "mimetype": "text/x-python",
   "name": "python",
   "nbconvert_exporter": "python",
   "pygments_lexer": "ipython3",
   "version": "3.12.6"
  }
 },
 "nbformat": 4,
 "nbformat_minor": 2
}
