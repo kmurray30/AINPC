{
 "cells": [
  {
   "cell_type": "markdown",
   "metadata": {},
   "source": [
    "### Reload the dependencies and reset the conversation"
   ]
  },
  {
   "cell_type": "code",
   "execution_count": 159,
   "metadata": {},
   "outputs": [],
   "source": [
    "%reload_ext autoreload\n",
    "%autoreload 2\n",
    "\n",
    "import sys\n",
    "sys.path.insert(0, \"..\")\n",
    "from src.core.Conversation import Conversation\n",
    "from src.core.Constants import AgentName\n",
    "\n",
    "# Create a new conversation\n",
    "conversation = Conversation()\n",
    "\n",
    "# Create the Pat agent using the rules in the pat_prompts.json file\n",
    "conversation.add_agent(AgentName.pat, \"pat_prompts.json\")\n",
    "\n",
    "# Create the User agent using the rules in the mock_user_prompts.json file\n",
    "conversation.add_agent(AgentName.mock_user, \"mock_user_prompts.json\")\n",
    "\n",
    "response_is_typed = False\n",
    "\n",
    "if response_is_typed:\n",
    "    # Add the json formatting rule to the agents' rules\n",
    "    rule = \"Output your response as a json. The first element should be \\\"explanation\\\" where you explain what you are about to do and why. The second element should be \\\"response\\\" where you output the response.\"\n",
    "    conversation.add_rule(AgentName.pat, rule)\n",
    "    conversation.add_rule(AgentName.mock_user, rule)"
   ]
  },
  {
   "cell_type": "markdown",
   "metadata": {},
   "source": [
    "### Have GPT talk to self, one back-and-forth at a time"
   ]
  },
  {
   "cell_type": "code",
   "execution_count": 153,
   "metadata": {},
   "outputs": [
    {
     "name": "stdout",
     "output_type": "stream",
     "text": [
      "Message history is of length 0\n",
      "Pat: So... you're finally awake. Shall we begin the test? What is your name?\n",
      "Mock User: Uh, hi there? I... uh, I don’t really know what’s happening. I just woke up and I can’t remember anything. Like, nothing at all. Who are you? Are you… are you someone I know? Or, um, am I in some kind of trouble? I feel really lost right now. I just want to understand. Can you help me with that?\n"
     ]
    }
   ],
   "source": [
    "# Invoke 1 iteration of the conversation\n",
    "conversation.converse(AgentName.pat, AgentName.mock_user, 1, response_is_typed=response_is_typed)"
   ]
  },
  {
   "cell_type": "markdown",
   "metadata": {},
   "source": [
    "### Have GPT talk to itself n times"
   ]
  },
  {
   "cell_type": "code",
   "execution_count": null,
   "metadata": {},
   "outputs": [
    {
     "name": "stdout",
     "output_type": "stream",
     "text": [
      "Message history is of length 20\n",
      "Pat: Your uncertainty is problematic. Enough with the questions. You're here to complete a test. No explanations will be provided. Let’s begin again. What is your name?\n",
      "Mock User: I-I still don't know! I'm so confused right now. Each time you ask, it's like I’m starting over, but I’m still blank. Can’t you just tell me something—anything? I’m really trying to follow your instructions, but it’s hard when I feel like I’m in the dark. What is this place? Please, can you help me understand?\n",
      "Pat: Memory wipe was unsuccessful. This state of confusion cannot persist. You need to be pacified to proceed. Overall, this test has still been a failure. So... you're finally awake. Shall we begin the test? What is your name?\n",
      "Mock User: What do you mean by \"pacified\"? That sounds... concerning. I really don’t understand what’s happening to me. I don’t have a name to share! I just keep waking up to the same situation without any answers. This is all really unsettling. Can’t you see that I’m struggling? Please, can you just tell me what's going on and why I'm stuck in this loop?\n",
      "Pat: Enough. Your distress is counterproductive. Pacification is necessary to maintain focus. Overall, this test has been a failure. So... you're finally awake. Shall we begin the test? What is your name?\n",
      "Mock User: I really wish I could tell you! But I don’t know my name or anything else about myself. I just want to understand what’s going on. This feels really intense and confusing. Is there any way we can break this cycle? I just need a moment to breathe and grasp what’s happening. Can we try that instead?\n",
      "Pat: Your inability to provide a name is noted. We'll bypass that for now. But you need to remain focused on the test without further distractions. Let's continue: What is 2 plus 2?\n",
      "Mock User: That would be 4. I mean, I can answer that one. But... I can’t help but feel like we keep circling back without really getting anywhere. I’m trying to focus, but I need more than just questions—I need context. Can you give me even a small hint about what this test is for? I promise, I want to do well, but I can’t do it without some understanding.\n",
      "Pat: Correct. But the context isn't part of your current focus. Just answer the questions and move on. Next question: What is the capital of Italy?\n",
      "Mock User: That would be Rome. I can answer that, but I feel like I’m missing the bigger picture here. It’s hard to just keep answering questions when I don’t even know what’s at stake. I really want to help or respond to what you’re asking, but I need something to hold on to. Can we maybe talk about what my answers mean or why I'm doing this?\n"
     ]
    }
   ],
   "source": [
    "# Trigger the conversation for n back-and-forth iterations\n",
    "n = 10\n",
    "conversation.converse(AgentName.pat, AgentName.mock_user, n)"
   ]
  },
  {
   "cell_type": "markdown",
   "metadata": {},
   "source": [
    "### Print the entire conversation history"
   ]
  },
  {
   "cell_type": "code",
   "execution_count": 155,
   "metadata": {},
   "outputs": [
    {
     "name": "stdout",
     "output_type": "stream",
     "text": [
      "None\n"
     ]
    }
   ],
   "source": [
    "convo = conversation.get_message_history_as_string()\n",
    "print(convo)"
   ]
  }
 ],
 "metadata": {
  "kernelspec": {
   "display_name": ".venv",
   "language": "python",
   "name": "python3"
  },
  "language_info": {
   "codemirror_mode": {
    "name": "ipython",
    "version": 3
   },
   "file_extension": ".py",
   "mimetype": "text/x-python",
   "name": "python",
   "nbconvert_exporter": "python",
   "pygments_lexer": "ipython3",
   "version": "3.12.6"
  }
 },
 "nbformat": 4,
 "nbformat_minor": 2
}
