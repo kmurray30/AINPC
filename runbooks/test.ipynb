{
 "cells": [
  {
   "cell_type": "markdown",
   "metadata": {},
   "source": [
    "### Reload the dependencies"
   ]
  },
  {
   "cell_type": "code",
   "execution_count": 1,
   "metadata": {},
   "outputs": [],
   "source": [
    "%reload_ext autoreload\n",
    "%autoreload 2\n",
    "\n",
    "import sys\n",
    "sys.path.insert(0, \"..\")\n",
    "from src.core.Conversation import Conversation\n",
    "from src.core.Constants import Role, AgentName\n",
    "import json\n",
    "from typing import List, Dict"
   ]
  },
  {
   "cell_type": "markdown",
   "metadata": {},
   "source": [
    "### Have GPT talk to itself"
   ]
  },
  {
   "cell_type": "code",
   "execution_count": 22,
   "metadata": {},
   "outputs": [
    {
     "name": "stdout",
     "output_type": "stream",
     "text": [
      "Pat as assistant: So... you're finally awake. Shall we begin the test?  \n",
      "\n",
      "What is your name?\n",
      "Mock User as user: What? My name? I don’t even know what’s going on here! I—  \n",
      "\n",
      "Just tell me your name. We need to get on with the test.\n",
      "Pat as assistant: Let’s stick to the process, alright? What is your name?\n",
      "Mock User as user: What is your name?\n",
      "Pat as assistant: That's not how this works. Just answer the question: What is your name?\n",
      "Mock User as user: I need your answer to proceed. What is your name?\n",
      "Pat as assistant: It's not about me. This is about you. Now, for the last time, what is your name?\n",
      "Mock User as user: Let's try this again. What is your name?\n",
      "Pat as assistant: This is pointless. Just tell me your name so we can move on with the test.\n",
      "Mock User as user: So... you're finally awake. Shall we begin the test?  \n",
      "\n",
      "What is your name?\n"
     ]
    }
   ],
   "source": [
    "conversation = Conversation()\n",
    "\n",
    "# Create the Pat agent using the rules in the pat_prompts.json file\n",
    "conversation.add_agent(AgentName.pat, Role.assistant, \"pat_prompts.json\")\n",
    "\n",
    "# Create the User agent using the rules in the mock_user_prompts.json file\n",
    "conversation.add_agent(AgentName.mock_user, Role.user, \"mock_user_prompts.json\")\n",
    "\n",
    "# Start the conversation, switching between the Pat and User agents, limiting the conversation to 5 turns\n",
    "conversation.converse(AgentName.pat, AgentName.mock_user, 5)"
   ]
  }
 ],
 "metadata": {
  "kernelspec": {
   "display_name": ".venv",
   "language": "python",
   "name": "python3"
  },
  "language_info": {
   "codemirror_mode": {
    "name": "ipython",
    "version": 3
   },
   "file_extension": ".py",
   "mimetype": "text/x-python",
   "name": "python",
   "nbconvert_exporter": "python",
   "pygments_lexer": "ipython3",
   "version": "3.12.6"
  }
 },
 "nbformat": 4,
 "nbformat_minor": 2
}
