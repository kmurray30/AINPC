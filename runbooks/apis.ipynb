{
 "cells": [
  {
   "cell_type": "code",
   "execution_count": 1,
   "metadata": {},
   "outputs": [
    {
     "name": "stdout",
     "output_type": "stream",
     "text": [
      "{'images': [{'url': 'https://fal.media/files/kangaroo/xs-6llgzTHm4ZojuYx5TA.png', 'width': 1024, 'height': 768, 'content_type': 'image/jpeg'}], 'timings': {'inference': 0.35380423394963145}, 'seed': 6252023, 'has_nsfw_concepts': [False], 'prompt': 'a man at a tavern puts his hand on the hilt of his sheathed sword. A woman next to him looks at him with concern. Another man is the bartender who eyes him warily. In the style of studio ghibli'}\n"
     ]
    }
   ],
   "source": [
    "import fal_client\n",
    "\n",
    "def on_queue_update(update):\n",
    "    if isinstance(update, fal_client.InProgress):\n",
    "        for log in update.logs:\n",
    "           print(log[\"message\"])\n",
    "\n",
    "result = fal_client.subscribe(\n",
    "    \"fal-ai/flux/schnell\",\n",
    "    arguments={\n",
    "        \"prompt\": \"a man at a tavern puts his hand on the hilt of his sheathed sword. A woman next to him looks at him with concern. Another man is the bartender who eyes him warily. In the style of studio ghibli\",\n",
    "        \"seed\": 6252023,\n",
    "        \"image_size\": \"landscape_4_3\",\n",
    "        \"num_images\": 1\n",
    "    },\n",
    "    with_logs=True,\n",
    "    on_queue_update=on_queue_update,\n",
    ")\n",
    "\n",
    "print(result)"
   ]
  },
  {
   "cell_type": "code",
   "execution_count": 6,
   "metadata": {},
   "outputs": [
    {
     "name": "stderr",
     "output_type": "stream",
     "text": [
      "/var/folders/yp/y6gzh9r55hbgfn37kw7_dw300000gn/T/ipykernel_22384/2853519469.py:11: DeprecationWarning: Due to a bug, this method doesn't actually stream the response content, `.with_streaming_response.method()` should be used instead\n",
      "  response.stream_to_file(speech_file_path)\n"
     ]
    }
   ],
   "source": [
    "from pathlib import Path\n",
    "from openai import OpenAI\n",
    "\n",
    "client = OpenAI()\n",
    "speech_file_path = \"./speech.mp3\"\n",
    "response = client.audio.speech.create(\n",
    "    model=\"tts-1\",\n",
    "    voice=\"alloy\",\n",
    "    input=\"Today is a wonderful day to build something people love!\",\n",
    ")\n",
    "response.stream_to_file(speech_file_path)"
   ]
  },
  {
   "cell_type": "code",
   "execution_count": 1,
   "metadata": {},
   "outputs": [
    {
     "name": "stdout",
     "output_type": "stream",
     "text": [
      "{'video': {'url': 'https://v3.fal.media/files/elephant/aiPdgGa5DZyY7zpH5JKrz_output.mp4', 'content_type': 'video/mp4', 'file_name': 'output.mp4', 'file_size': 1702250}}\n"
     ]
    }
   ],
   "source": [
    "# import fal_client\n",
    "\n",
    "# def on_queue_update(update):\n",
    "#     if isinstance(update, fal_client.InProgress):\n",
    "#         for log in update.logs:\n",
    "#            print(log[\"message\"])\n",
    "\n",
    "# result = fal_client.subscribe(\n",
    "#     \"fal-ai/sync-lipsync\",\n",
    "#     arguments={\n",
    "#         \"video_url\": \"https://fal.media/files/koala/8teUPbRRMtAUTORDvqy0l.mp4\",\n",
    "#         \"audio_url\": \"https://fal.media/files/lion/vyFWygmZsIZlUO4s0nr2n.wav\"\n",
    "#     },\n",
    "#     with_logs=True,\n",
    "#     on_queue_update=on_queue_update,\n",
    "# )\n",
    "# print(result) # https://v3.fal.media/files/elephant/aiPdgGa5DZyY7zpH5JKrz_output.mp4"
   ]
  }
 ],
 "metadata": {
  "kernelspec": {
   "display_name": ".venv",
   "language": "python",
   "name": "python3"
  },
  "language_info": {
   "codemirror_mode": {
    "name": "ipython",
    "version": 3
   },
   "file_extension": ".py",
   "mimetype": "text/x-python",
   "name": "python",
   "nbconvert_exporter": "python",
   "pygments_lexer": "ipython3",
   "version": "3.11.4"
  }
 },
 "nbformat": 4,
 "nbformat_minor": 2
}
