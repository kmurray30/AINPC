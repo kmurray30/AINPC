{
 "cells": [
  {
   "cell_type": "markdown",
   "metadata": {},
   "source": [
    "# Chat Tool"
   ]
  },
  {
   "cell_type": "markdown",
   "metadata": {},
   "source": [
    "## Reload dependencies"
   ]
  },
  {
   "cell_type": "code",
   "execution_count": 1,
   "metadata": {},
   "outputs": [],
   "source": [
    "# Reload the dependencies\n",
    "%reload_ext autoreload\n",
    "%autoreload 2"
   ]
  },
  {
   "cell_type": "markdown",
   "metadata": {},
   "source": [
    "## Init"
   ]
  },
  {
   "cell_type": "code",
   "execution_count": 3,
   "metadata": {},
   "outputs": [],
   "source": [
    "import sys\n",
    "sys.path.insert(0, \"..\")\n",
    "from src.Utilities.Utilities import *\n",
    "from src.Utilities.ChatBot import *\n",
    "from src.Utilities import ChatBot\n",
    "\n",
    "# Set the chat agent\n",
    "set_chat_model(gpt_3_5_turbo)\n",
    "\n",
    "rules = \"You are a helpful assistant.\""
   ]
  },
  {
   "cell_type": "markdown",
   "metadata": {},
   "source": [
    "## Clear message history"
   ]
  },
  {
   "cell_type": "code",
   "execution_count": 11,
   "metadata": {},
   "outputs": [],
   "source": [
    "message_history = []"
   ]
  },
  {
   "cell_type": "markdown",
   "metadata": {},
   "source": [
    "## Call ChatGPT to generate entities"
   ]
  },
  {
   "cell_type": "code",
   "execution_count": null,
   "metadata": {},
   "outputs": [
    {
     "name": "stdout",
     "output_type": "stream",
     "text": [
      "user:      How many times have I asked you your name?\n",
      "assistant: You have asked me my name once. My name is Assistant. How can I assist you further today?\n",
      "user:      How many times have I asked you your name?\n",
      "assistant: You have asked me my name twice now. Is there anything else you would like help with?\n",
      "user:      How many times have I asked you your name?\n",
      "assistant: You have asked me my name three times now. Is there anything else I can help you with today?\n"
     ]
    }
   ],
   "source": [
    "prompt = \"How many times have I asked you your name?\"\n",
    "\n",
    "response = ChatBot.call_chat_agent_with_context(prompt = prompt, message_history = message_history, rules = rules)\n",
    "\n",
    "for message in message_history:\n",
    "    padding = \" \" * (10 - len(message[\"role\"]))\n",
    "    print(f\"{message[\"role\"]}:{padding}{message[\"content\"]}\")"
   ]
  }
 ],
 "metadata": {
  "kernelspec": {
   "display_name": ".venv",
   "language": "python",
   "name": "python3"
  },
  "language_info": {
   "codemirror_mode": {
    "name": "ipython",
    "version": 3
   },
   "file_extension": ".py",
   "mimetype": "text/x-python",
   "name": "python",
   "nbconvert_exporter": "python",
   "pygments_lexer": "ipython3",
   "version": "3.11.4"
  }
 },
 "nbformat": 4,
 "nbformat_minor": 2
}
