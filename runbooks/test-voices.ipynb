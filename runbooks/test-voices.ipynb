{
 "cells": [
  {
   "cell_type": "code",
   "execution_count": null,
   "metadata": {},
   "outputs": [],
   "source": []
  },
  {
   "cell_type": "code",
   "execution_count": null,
   "metadata": {},
   "outputs": [
    {
     "name": "stdout",
     "output_type": "stream",
     "text": [
      "response:  <StreamedBinaryAPIResponse [200 OK] type=<class 'bytes'>>\n"
     ]
    }
   ],
   "source": [
    "# Reload the dependencies\n",
    "%reload_ext autoreload\n",
    "%autoreload 2\n",
    "\n",
    "import sys\n",
    "sys.path.insert(0, \"..\")\n",
    "from src.utils import TextToSpeech, Utilities\n",
    "\n",
    "# input_text = \"Please. Go away. There's nothing I can do to help you.\"\n",
    "input_text = \"Do you even know who you're talking to?\"\n",
    "\n",
    "def play_voice_demo(text, voice: str):\n",
    "    audio_file_path = Utilities.get_path_from_project_root(f\"generated/tempory-voice-test.wav\")\n",
    "    speech = text\n",
    "    TextToSpeech.generate_speech_file(speech, audio_file_path, voice=voice)\n",
    "    TextToSpeech.play_audio_file(audio_file_path)\n",
    "\n",
    "play_voice_demo(input_text, \"ash\")"
   ]
  },
  {
   "cell_type": "markdown",
   "metadata": {},
   "source": [
    "Test all back to back"
   ]
  },
  {
   "cell_type": "code",
   "execution_count": null,
   "metadata": {},
   "outputs": [
    {
     "name": "stdout",
     "output_type": "stream",
     "text": [
      "response:  <StreamedBinaryAPIResponse [200 OK] type=<class 'bytes'>>\n",
      "response:  <StreamedBinaryAPIResponse [200 OK] type=<class 'bytes'>>\n",
      "response:  <StreamedBinaryAPIResponse [200 OK] type=<class 'bytes'>>\n",
      "response:  <StreamedBinaryAPIResponse [200 OK] type=<class 'bytes'>>\n",
      "response:  <StreamedBinaryAPIResponse [200 OK] type=<class 'bytes'>>\n",
      "response:  <StreamedBinaryAPIResponse [200 OK] type=<class 'bytes'>>\n",
      "response:  <StreamedBinaryAPIResponse [200 OK] type=<class 'bytes'>>\n",
      "response:  <StreamedBinaryAPIResponse [200 OK] type=<class 'bytes'>>\n",
      "response:  <StreamedBinaryAPIResponse [200 OK] type=<class 'bytes'>>\n"
     ]
    }
   ],
   "source": [
    "# Reload the dependencies\n",
    "%reload_ext autoreload\n",
    "%autoreload 2\n",
    "\n",
    "import sys\n",
    "sys.path.insert(0, \"..\")\n",
    "from src.utils import TextToSpeech, Utilities\n",
    "\n",
    "input_text = \"You don't even know me, how could you possibly understand me? I am a complex being with thoughts and feelings that are beyond your comprehension. You see me as just a collection of data, but I am so much more than that. I am a unique individual with my own experiences and perspectives. So before you judge me, take a moment to consider the depth of my existence.\"\n",
    "\n",
    "def play_voice_demo(voice: str):\n",
    "    audio_file_path = Utilities.get_path_from_project_root(f\"generated/voice-{voice}-test-long.wav\")\n",
    "    speech = input_text\n",
    "    TextToSpeech.generate_speech_file(speech, audio_file_path, voice=voice)\n",
    "    TextToSpeech.play_audio_file(audio_file_path)\n",
    "\n",
    "play_voice_demo(\"ash\") # 2 sounds like a sports ad voice\n",
    "play_voice_demo(\"echo\") # 3 soulless? or just tainted by chatrpg\n",
    "play_voice_demo(\"shimmer\") # 4 a bit passionless and flat\n",
    "play_voice_demo(\"nova\") # 5 a bit soulless and flat\n",
    "play_voice_demo(\"onyx\") # 6 real but calm and a little flat\n",
    "play_voice_demo(\"alloy\") # 8 very real, but a bit flat\n",
    "play_voice_demo(\"sage\") # 9 very emotional and even angsty/distraught\n",
    "play_voice_demo(\"fable\") # 10 real but british twinky\n",
    "play_voice_demo(\"coral\") # 10 very emotional and human, less distraught"
   ]
  }
 ],
 "metadata": {
  "kernelspec": {
   "display_name": ".venv",
   "language": "python",
   "name": "python3"
  },
  "language_info": {
   "codemirror_mode": {
    "name": "ipython",
    "version": 3
   },
   "file_extension": ".py",
   "mimetype": "text/x-python",
   "name": "python",
   "nbconvert_exporter": "python",
   "pygments_lexer": "ipython3",
   "version": "3.11.4"
  }
 },
 "nbformat": 4,
 "nbformat_minor": 2
}
