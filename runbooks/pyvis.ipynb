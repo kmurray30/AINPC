{
 "cells": [
  {
   "cell_type": "code",
   "execution_count": 2,
   "metadata": {},
   "outputs": [
    {
     "name": "stdout",
     "output_type": "stream",
     "text": [
      "nodes.html\n"
     ]
    },
    {
     "data": {
      "text/html": [
       "\n",
       "        <iframe\n",
       "            width=\"100%\"\n",
       "            height=\"600px\"\n",
       "            src=\"nodes.html\"\n",
       "            frameborder=\"0\"\n",
       "            allowfullscreen\n",
       "            \n",
       "        ></iframe>\n",
       "        "
      ],
      "text/plain": [
       "<IPython.lib.display.IFrame at 0x1062aad90>"
      ]
     },
     "execution_count": 2,
     "metadata": {},
     "output_type": "execute_result"
    }
   ],
   "source": [
    "from pyvis.network import Network\n",
    "\n",
    "net = Network(\n",
    "    notebook=True,\n",
    "    cdn_resources=\"remote\",\n",
    "    select_menu=True,\n",
    "    filter_menu=True\n",
    ")\n",
    "net.add_node(1, label=\"Alex\")\n",
    "net.add_node(2, label=\"Cathy\")\n",
    "net.add_edges([(1, 2), (2, 1)])\n",
    "net.show(\"nodes.html\")"
   ]
  },
  {
   "cell_type": "code",
   "execution_count": 4,
   "metadata": {},
   "outputs": [
    {
     "name": "stdout",
     "output_type": "stream",
     "text": [
      "nodes.html\n"
     ]
    },
    {
     "data": {
      "text/html": [
       "\n",
       "        <iframe\n",
       "            width=\"100%\"\n",
       "            height=\"600px\"\n",
       "            src=\"nodes.html\"\n",
       "            frameborder=\"0\"\n",
       "            allowfullscreen\n",
       "            \n",
       "        ></iframe>\n",
       "        "
      ],
      "text/plain": [
       "<IPython.lib.display.IFrame at 0x1062fb790>"
      ]
     },
     "execution_count": 4,
     "metadata": {},
     "output_type": "execute_result"
    }
   ],
   "source": [
    "import sys\n",
    "from pyvis.network import Network\n",
    "\n",
    "sys.path.insert(0, \"..\")\n",
    "from src.Utilities.Utilities import *\n",
    "\n",
    "# Load the test json and format for graphviz\n",
    "entity_raw_data_path = get_path_from_project_root(\"entities/testing2.json\")\n",
    "data = load_json_custom(entity_raw_data_path)\n",
    "\n",
    "net = Network(\n",
    "    notebook=True,\n",
    "    cdn_resources=\"remote\",\n",
    "    select_menu=True,\n",
    "    filter_menu=True,\n",
    "    directed=True\n",
    ")\n",
    "\n",
    "for entity in data:\n",
    "    if (entity[\"summary\"]) not in net.nodes:\n",
    "        net.add_node(entity[\"summary\"], label=entity[\"summary\"])\n",
    "    for connection in entity[\"connections\"]:\n",
    "        if connection not in net.nodes:\n",
    "            net.add_node(connection, label=connection)\n",
    "        net.add_edge(entity[\"summary\"], connection)\n",
    "\n",
    "net.show(\"nodes.html\")"
   ]
  },
  {
   "cell_type": "code",
   "execution_count": 18,
   "metadata": {},
   "outputs": [
    {
     "name": "stdout",
     "output_type": "stream",
     "text": [
      "// The Round Table\n",
      "digraph {\n",
      "\tBlane -> \"Blane's scar\"\n",
      "\t\"Blane's knowledge of arcana\" -> Blane\n",
      "\t\"Blane's knowledge of arcana\" -> Arcana\n",
      "\t\"Blane's knowledge of arcana\" -> \"Wizard school\"\n",
      "\t\"Blane's fear towards arcana\" -> Blane\n",
      "\t\"Blane's fear towards arcana\" -> Arcana\n",
      "\t\"Blane's fear towards arcana\" -> \"Blane's self esteem\"\n",
      "\t\"Blane's fear towards arcana\" -> \"Blane's scar\"\n",
      "\t\"Blane telling me about arcana\" -> Blane\n",
      "\t\"Blane telling me about arcana\" -> Arcana\n",
      "\t\"Blane telling me about arcana\" -> \"Blane's fear towards arcana\"\n",
      "\t\"Wizard school\" -> \"Blane's knowledge of arcana\"\n",
      "}\n",
      "\n"
     ]
    },
    {
     "data": {
      "text/plain": [
       "'test2.gv.pdf'"
      ]
     },
     "execution_count": 18,
     "metadata": {},
     "output_type": "execute_result"
    }
   ],
   "source": [
    "import json\n",
    "import sys\n",
    "import graphviz\n",
    "\n",
    "sys.path.insert(0, \"..\")\n",
    "from src.Utilities.Utilities import *\n",
    "\n",
    "# Load the test json and format for graphviz\n",
    "entity_raw_data_path = get_path_from_project_root(\"entities/testing2.json\")\n",
    "data = load_json_custom(entity_raw_data_path)\n",
    "\n",
    "dot = graphviz.Digraph(comment='The Round Table')\n",
    "# for entity in data:\n",
    "#     dot.node(entity[\"summary\"], entity[\"summary\"])\n",
    "\n",
    "for entity in data:\n",
    "    for connection in entity[\"connections\"]:\n",
    "        dot.edge(entity[\"summary\"], connection)\n",
    "\n",
    "print(dot.source)\n",
    "\n",
    "dot.render('./test2.gv', view=True)"
   ]
  },
  {
   "cell_type": "code",
   "execution_count": 10,
   "metadata": {},
   "outputs": [
    {
     "name": "stdout",
     "output_type": "stream",
     "text": [
      "// The Round Table\n",
      "digraph {\n",
      "\tA [label=\"King Arthur\"]\n",
      "\tB [label=\"Sir Bedevere the Wise\"]\n",
      "\tL [label=\"Sir Lancelot the Brave\"]\n",
      "\tA -> B\n",
      "\tA -> L\n",
      "\tB -> L [constraint=false]\n",
      "}\n",
      "\n"
     ]
    },
    {
     "data": {
      "text/plain": [
       "'round-table.gv.pdf'"
      ]
     },
     "execution_count": 10,
     "metadata": {},
     "output_type": "execute_result"
    }
   ],
   "source": [
    "import graphviz\n",
    "\n",
    "dot = graphviz.Digraph(comment='The Round Table')\n",
    "dot.node('A', 'King Arthur')  # doctest: +NO_EXE\n",
    "dot.node('B', 'Sir Bedevere the Wise')\n",
    "dot.node('L', 'Sir Lancelot the Brave')\n",
    "\n",
    "dot.edges(['AB', 'AL'])\n",
    "dot.edge('B', 'L', constraint='false')\n",
    "\n",
    "print(dot.source)\n",
    "\n",
    "dot.render('./round-table.gv', view=True)"
   ]
  }
 ],
 "metadata": {
  "kernelspec": {
   "display_name": ".venv",
   "language": "python",
   "name": "python3"
  },
  "language_info": {
   "codemirror_mode": {
    "name": "ipython",
    "version": 3
   },
   "file_extension": ".py",
   "mimetype": "text/x-python",
   "name": "python",
   "nbconvert_exporter": "python",
   "pygments_lexer": "ipython3",
   "version": "3.11.4"
  }
 },
 "nbformat": 4,
 "nbformat_minor": 2
}
