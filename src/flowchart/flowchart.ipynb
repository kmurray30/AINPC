{
 "cells": [
  {
   "cell_type": "code",
   "execution_count": 1,
   "id": "070cd3a5",
   "metadata": {},
   "outputs": [
    {
     "name": "stdout",
     "output_type": "stream",
     "text": [
      "3.1.2\n",
      "0.3.2\n",
      "/Users/kylemurray/Repos/AINPC/.venv/lib/python3.11/site-packages/pyvis/__init__.py\n",
      "/Users/kylemurray/Repos/AINPC/.venv/bin/python\n",
      "Warning: When  cdn_resources is 'local' jupyter notebook has issues displaying graphics on chrome/safari. Use cdn_resources='in_line' or cdn_resources='remote' if you have issues viewing graphics in a notebook.\n",
      "graph2.html\n"
     ]
    },
    {
     "data": {
      "text/html": [
       "\n",
       "        <iframe\n",
       "            width=\"100%\"\n",
       "            height=\"600px\"\n",
       "            src=\"graph2.html\"\n",
       "            frameborder=\"0\"\n",
       "            allowfullscreen\n",
       "            \n",
       "        ></iframe>\n",
       "        "
      ],
      "text/plain": [
       "<IPython.lib.display.IFrame at 0x11028ab10>"
      ]
     },
     "execution_count": 1,
     "metadata": {},
     "output_type": "execute_result"
    }
   ],
   "source": [
    "from pyvis.network import Network\n",
    "import jinja2\n",
    "print(jinja2.__version__)\n",
    "import pyvis\n",
    "print(pyvis.__version__)\n",
    "print(pyvis.__file__)\n",
    "import sys\n",
    "print(sys.executable)\n",
    "\n",
    "# Create a network object\n",
    "net = Network(height=\"600px\", width=\"100%\", bgcolor=\"#222222\", font_color=\"white\", notebook=True)\n",
    "\n",
    "# Enable physics for better layout\n",
    "net.toggle_physics(True)\n",
    "\n",
    "node_a = \"A\"\n",
    "node_b = \"B\"\n",
    "node_c = \"C\"\n",
    "\n",
    "node_a = {\n",
    "    \"id\": \"A\",\n",
    "    \"label\": \"Node A\",\n",
    "    \"title\": \"This is node A. Click me!\",\n",
    "    \"color\": \"#ff6666\",\n",
    "    \"edges\": [\"B\"]\n",
    "}\n",
    "\n",
    "node_b = {\n",
    "    \"id\": \"B\",\n",
    "    \"label\": \"Node B\",\n",
    "    \"title\": \"Details: Node B has custom data\",\n",
    "    \"color\": \"#66b3ff\",\n",
    "    \"edges\": [\"C\"]\n",
    "}\n",
    "\n",
    "node_c = {\n",
    "    \"id\": \"C\",\n",
    "    \"label\": \"Node C\",\n",
    "    \"title\": \"Node C represents a concept\",\n",
    "    \"color\": \"#99ff99\",\n",
    "    \"edges\": [\"A\"]\n",
    "}\n",
    "\n",
    "nodes = [node_a, node_b, node_c]\n",
    "\n",
    "for node in nodes:\n",
    "    # Add nodes to the network\n",
    "    net.add_node(node[\"id\"], label=node[\"label\"], title=node[\"title\"], color=node[\"color\"], shape=\"circle\", font={\"align\": \"middle\"})\n",
    "\n",
    "for node in nodes:\n",
    "    # Add edges based on the edges list in each node\n",
    "    for edge in node[\"edges\"]:\n",
    "        net.add_edge(node[\"id\"], edge, title=f\"Edge from {node['label']} to {edge}\", arrows=\"to\")\n",
    "\n",
    "# Save and display\n",
    "net.show(\"graph2.html\")\n"
   ]
  },
  {
   "cell_type": "code",
   "execution_count": null,
   "id": "379c24b2",
   "metadata": {},
   "outputs": [
    {
     "name": "stdout",
     "output_type": "stream",
     "text": [
      "3.1.6\n",
      "0.3.2\n",
      "/Users/kylemurray/Repos/AINPC/.venv/lib/python3.11/site-packages/pyvis/__init__.py\n",
      "/Users/kylemurray/Repos/AINPC/.venv/bin/python\n",
      "Warning: When  cdn_resources is 'local' jupyter notebook has issues displaying graphics on chrome/safari. Use cdn_resources='in_line' or cdn_resources='remote' if you have issues viewing graphics in a notebook.\n",
      "graph.html\n"
     ]
    },
    {
     "data": {
      "text/html": [
       "\n",
       "        <iframe\n",
       "            width=\"100%\"\n",
       "            height=\"600px\"\n",
       "            src=\"graph.html\"\n",
       "            frameborder=\"0\"\n",
       "            allowfullscreen\n",
       "            \n",
       "        ></iframe>\n",
       "        "
      ],
      "text/plain": [
       "<IPython.lib.display.IFrame at 0x1070ee010>"
      ]
     },
     "execution_count": 16,
     "metadata": {},
     "output_type": "execute_result"
    }
   ],
   "source": [
    "from pyvis.network import Network\n",
    "import jinja2\n",
    "print(jinja2.__version__)\n",
    "import pyvis\n",
    "print(pyvis.__version__)\n",
    "print(pyvis.__file__)\n",
    "import sys\n",
    "print(sys.executable)\n",
    "\n",
    "# Create a network object\n",
    "net = Network(height=\"600px\", width=\"100%\", bgcolor=\"#222222\", font_color=\"white\", notebook=True)\n",
    "\n",
    "# Enable physics for better layout\n",
    "net.toggle_physics(True)\n",
    "\n",
    "node_a = \"A\"\n",
    "node_b = \"B\"\n",
    "node_c = \"C\"\n",
    "\n",
    "# Add nodes with tooltips and click details\n",
    "net.add_node(node_a, label=\"Node A\", title=\"This is node A. Click me!\", shape=\"circle\", color=\"#ff6666\", font={\"align\": \"middle\"})\n",
    "net.add_node(node_b, label=\"Node B\", title=\"Details: Node B has custom data\", shape=\"circle\", color=\"#66b3ff\", font={\"align\": \"middle\"})\n",
    "net.add_node(node_c, label=\"Node C\", title=\"Node C represents a concept\", shape=\"circle\", color=\"#99ff99\", font={\"align\": \"middle\"})\n",
    "\n",
    "# Add edges with titles (hover info)\n",
    "net.add_edge(node_a, node_b, title=\"Edge from A to B\", arrows=\"to\")\n",
    "net.add_edge(node_b, node_c, title=\"Edge from B to C\", arrows=\"to\")\n",
    "net.add_edge(node_c, node_a, title=\"Edge from C to A\", arrows=\"to\")\n",
    "\n",
    "# Save and display\n",
    "net.show(\"graph.html\")\n"
   ]
  }
 ],
 "metadata": {
  "kernelspec": {
   "display_name": ".venv",
   "language": "python",
   "name": "python3"
  },
  "language_info": {
   "codemirror_mode": {
    "name": "ipython",
    "version": 3
   },
   "file_extension": ".py",
   "mimetype": "text/x-python",
   "name": "python",
   "nbconvert_exporter": "python",
   "pygments_lexer": "ipython3",
   "version": "3.11.4"
  }
 },
 "nbformat": 4,
 "nbformat_minor": 5
}
