{
 "cells": [
  {
   "cell_type": "code",
   "execution_count": 10,
   "id": "070cd3a5",
   "metadata": {},
   "outputs": [
    {
     "name": "stdout",
     "output_type": "stream",
     "text": [
      "3.1.2\n",
      "0.3.2\n",
      "/Users/kylemurray/Repos/AINPC/.venv/lib/python3.11/site-packages/pyvis/__init__.py\n",
      "/Users/kylemurray/Repos/AINPC/.venv/bin/python\n",
      "Warning: When  cdn_resources is 'local' jupyter notebook has issues displaying graphics on chrome/safari. Use cdn_resources='in_line' or cdn_resources='remote' if you have issues viewing graphics in a notebook.\n",
      "graph2.html\n"
     ]
    },
    {
     "data": {
      "text/html": [
       "\n",
       "        <iframe\n",
       "            width=\"100%\"\n",
       "            height=\"600px\"\n",
       "            src=\"graph2.html\"\n",
       "            frameborder=\"0\"\n",
       "            allowfullscreen\n",
       "            \n",
       "        ></iframe>\n",
       "        "
      ],
      "text/plain": [
       "<IPython.lib.display.IFrame at 0x1127e8750>"
      ]
     },
     "execution_count": 10,
     "metadata": {},
     "output_type": "execute_result"
    }
   ],
   "source": [
    "from pyvis.network import Network\n",
    "import jinja2\n",
    "print(jinja2.__version__)\n",
    "import pyvis\n",
    "print(pyvis.__version__)\n",
    "print(pyvis.__file__)\n",
    "import sys\n",
    "print(sys.executable)\n",
    "\n",
    "# Create a network object\n",
    "net = Network(height=\"600px\", width=\"100%\", bgcolor=\"#222222\", font_color=\"white\", notebook=True)\n",
    "\n",
    "# Enable physics for better layout\n",
    "net.toggle_physics(False)\n",
    "\n",
    "node_a = \"A\"\n",
    "node_b = \"B\"\n",
    "node_c = \"C\"\n",
    "\n",
    "nodes = [\n",
    "{\n",
    "    \"id\": \"A\",\n",
    "    \"label\": \"She's not texting me back\",\n",
    "    \"title\": \"P/C\",\n",
    "    \"color\": \"#000000\",\n",
    "    \"edges\": [\"B\", \"C\"]\n",
    "},\n",
    "{\n",
    "    \"id\": \"B\",\n",
    "    \"label\": \"Maybe she's busy\",\n",
    "    \"title\": \"C/R\",\n",
    "    \"color\": \"#000000\",\n",
    "    \"edges\": []\n",
    "},\n",
    "{\n",
    "    \"id\": \"C\",\n",
    "    \"label\": \"Maybe she's ghosting me\",\n",
    "    \"title\": \"C/R/A\",\n",
    "    \"color\": \"#000000\",\n",
    "    \"edges\": [\"D\", \"E\", \"F\", \"G\"]\n",
    "},\n",
    "{    \n",
    "    \"id\": \"D\",\n",
    "    \"label\": \"We're not compatible\",\n",
    "    \"title\": \"R\",\n",
    "    \"color\": \"#000000\",\n",
    "    \"edges\": []\n",
    "},\n",
    "{\n",
    "    \"id\": \"E\",\n",
    "    \"label\": \"She doesn't like me\",\n",
    "    \"title\": \"R\",\n",
    "    \"color\": \"#000000\",\n",
    "    \"edges\": []\n",
    "},\n",
    "{    \n",
    "    \"id\": \"F\",\n",
    "    \"label\": \"Is it something I did?\",\n",
    "    \"title\": \"R\",\n",
    "    \"color\": \"#000000\",\n",
    "    \"edges\": []\n",
    "},\n",
    "{\n",
    "    \"id\": \"G\",\n",
    "    \"label\": \"She sucks\",\n",
    "    \"title\": \"R\",\n",
    "    \"color\": \"#000000\",\n",
    "    \"edges\": []\n",
    "}\n",
    "]\n",
    "# Create a dictionary for quick access to nodes by id\n",
    "nodes_dict = {node[\"id\"]: node for node in nodes}\n",
    "\n",
    "for node in nodes_dict.values():\n",
    "    # Add nodes to the network\n",
    "    net.add_node(node[\"id\"], label=node[\"label\"], title=node[\"title\"], color=node[\"color\"], shape=\"dot\", font={\"align\": \"middle\"})\n",
    "\n",
    "for node in nodes_dict.values():\n",
    "    # Add edges based on the edges list in each node\n",
    "    for edge in node[\"edges\"]:\n",
    "        net.add_edge(node[\"id\"], edge, title=f\"Edge from {node['label']} to {nodes_dict[edge]['label']}\", arrows=\"to\")\n",
    "\n",
    "# Save and display\n",
    "net.show(\"graph2.html\")\n"
   ]
  },
  {
   "cell_type": "code",
   "execution_count": null,
   "id": "379c24b2",
   "metadata": {},
   "outputs": [
    {
     "name": "stdout",
     "output_type": "stream",
     "text": [
      "3.1.6\n",
      "0.3.2\n",
      "/Users/kylemurray/Repos/AINPC/.venv/lib/python3.11/site-packages/pyvis/__init__.py\n",
      "/Users/kylemurray/Repos/AINPC/.venv/bin/python\n",
      "Warning: When  cdn_resources is 'local' jupyter notebook has issues displaying graphics on chrome/safari. Use cdn_resources='in_line' or cdn_resources='remote' if you have issues viewing graphics in a notebook.\n",
      "graph.html\n"
     ]
    },
    {
     "data": {
      "text/html": [
       "\n",
       "        <iframe\n",
       "            width=\"100%\"\n",
       "            height=\"600px\"\n",
       "            src=\"graph.html\"\n",
       "            frameborder=\"0\"\n",
       "            allowfullscreen\n",
       "            \n",
       "        ></iframe>\n",
       "        "
      ],
      "text/plain": [
       "<IPython.lib.display.IFrame at 0x1070ee010>"
      ]
     },
     "execution_count": 16,
     "metadata": {},
     "output_type": "execute_result"
    }
   ],
   "source": [
    "from pyvis.network import Network\n",
    "import jinja2\n",
    "print(jinja2.__version__)\n",
    "import pyvis\n",
    "print(pyvis.__version__)\n",
    "print(pyvis.__file__)\n",
    "import sys\n",
    "print(sys.executable)\n",
    "\n",
    "# Create a network object\n",
    "net = Network(height=\"600px\", width=\"100%\", bgcolor=\"#222222\", font_color=\"white\", notebook=True)\n",
    "\n",
    "# Enable physics for better layout\n",
    "net.toggle_physics(True)\n",
    "\n",
    "node_a = \"A\"\n",
    "node_b = \"B\"\n",
    "node_c = \"C\"\n",
    "\n",
    "# Add nodes with tooltips and click details\n",
    "net.add_node(node_a, label=\"Node A\", title=\"This is node A. Click me!\", shape=\"circle\", color=\"#ff6666\", font={\"align\": \"middle\"})\n",
    "net.add_node(node_b, label=\"Node B\", title=\"Details: Node B has custom data\", shape=\"circle\", color=\"#66b3ff\", font={\"align\": \"middle\"})\n",
    "net.add_node(node_c, label=\"Node C\", title=\"Node C represents a concept\", shape=\"circle\", color=\"#99ff99\", font={\"align\": \"middle\"})\n",
    "\n",
    "# Add edges with titles (hover info)\n",
    "net.add_edge(node_a, node_b, title=\"Edge from A to B\", arrows=\"to\")\n",
    "net.add_edge(node_b, node_c, title=\"Edge from B to C\", arrows=\"to\")\n",
    "net.add_edge(node_c, node_a, title=\"Edge from C to A\", arrows=\"to\")\n",
    "\n",
    "# Save and display\n",
    "net.show(\"graph.html\")\n"
   ]
  }
 ],
 "metadata": {
  "kernelspec": {
   "display_name": ".venv",
   "language": "python",
   "name": "python3"
  },
  "language_info": {
   "codemirror_mode": {
    "name": "ipython",
    "version": 3
   },
   "file_extension": ".py",
   "mimetype": "text/x-python",
   "name": "python",
   "nbconvert_exporter": "python",
   "pygments_lexer": "ipython3",
   "version": "3.11.4"
  }
 },
 "nbformat": 4,
 "nbformat_minor": 5
}
