{
 "cells": [
  {
   "cell_type": "markdown",
   "id": "eee136b8",
   "metadata": {},
   "source": [
    "### Setup"
   ]
  },
  {
   "cell_type": "code",
   "execution_count": 29,
   "id": "43816b3e",
   "metadata": {},
   "outputs": [],
   "source": [
    "# Reload the dependencies\n",
    "%reload_ext autoreload\n",
    "%autoreload 2\n",
    "\n",
    "import sys\n",
    "from typing import Dict\n",
    "import time\n",
    "\n",
    "sys.path.insert(0, \"../..\")\n",
    "from src.utils import MilvusUtil\n",
    "from src.tools.MyTable import MyTable, TableCategory\n",
    "\n",
    "# Options\n",
    "embedding_model = MilvusUtil.text_embedding_3_large\n",
    "dim = MilvusUtil.get_dimensions_of_model(embedding_model)\n"
   ]
  },
  {
   "cell_type": "code",
   "execution_count": 30,
   "id": "2fcb3785",
   "metadata": {},
   "outputs": [
    {
     "name": "stdout",
     "output_type": "stream",
     "text": [
      "Mentioned in conversation: yoga\n",
      "+--------------------------------+------------+------------+-------------+\n",
      "| brain match                    | similarity | embed time | cosine time |\n",
      "+--------------------------------+------------+------------+-------------+\n",
      "| fitness                        |"
     ]
    },
    {
     "ename": "TypeError",
     "evalue": "Colored categories can only accept numeric values",
     "output_type": "error",
     "traceback": [
      "\u001b[0;31m---------------------------------------------------------------------------\u001b[0m",
      "\u001b[0;31mTypeError\u001b[0m                                 Traceback (most recent call last)",
      "Cell \u001b[0;32mIn[30], line 38\u001b[0m\n\u001b[1;32m     35\u001b[0m     cosine_elapsed_time \u001b[38;5;241m=\u001b[39m time\u001b[38;5;241m.\u001b[39mtime() \u001b[38;5;241m-\u001b[39m cosine_time_start\n\u001b[1;32m     37\u001b[0m     match_table\u001b[38;5;241m.\u001b[39madd_row([blurb, similarity, embed_elapsed_time, cosine_elapsed_time])\n\u001b[0;32m---> 38\u001b[0m     \u001b[43mmatch_table\u001b[49m\u001b[38;5;241;43m.\u001b[39;49m\u001b[43mprint_last_row\u001b[49m\u001b[43m(\u001b[49m\u001b[43m)\u001b[49m\n\u001b[1;32m     40\u001b[0m match_table\u001b[38;5;241m.\u001b[39mprint_footer()\n",
      "File \u001b[0;32m~/Repos/AINPC/src/brain/../../src/tools/MyTable.py:107\u001b[0m, in \u001b[0;36mMyTable.print_last_row\u001b[0;34m(self)\u001b[0m\n\u001b[1;32m    105\u001b[0m \u001b[38;5;28;01mif\u001b[39;00m \u001b[38;5;129;01mnot\u001b[39;00m \u001b[38;5;28mself\u001b[39m\u001b[38;5;241m.\u001b[39mrows:\n\u001b[1;32m    106\u001b[0m     \u001b[38;5;28;01mraise\u001b[39;00m \u001b[38;5;167;01mValueError\u001b[39;00m(\u001b[38;5;124m\"\u001b[39m\u001b[38;5;124mNo rows to print\u001b[39m\u001b[38;5;124m\"\u001b[39m)\n\u001b[0;32m--> 107\u001b[0m \u001b[38;5;28;43mself\u001b[39;49m\u001b[38;5;241;43m.\u001b[39;49m\u001b[43mprint_row\u001b[49m\u001b[43m(\u001b[49m\u001b[38;5;28;43mlen\u001b[39;49m\u001b[43m(\u001b[49m\u001b[38;5;28;43mself\u001b[39;49m\u001b[38;5;241;43m.\u001b[39;49m\u001b[43mrows\u001b[49m\u001b[43m)\u001b[49m\u001b[43m \u001b[49m\u001b[38;5;241;43m-\u001b[39;49m\u001b[43m \u001b[49m\u001b[38;5;241;43m1\u001b[39;49m\u001b[43m)\u001b[49m\n",
      "File \u001b[0;32m~/Repos/AINPC/src/brain/../../src/tools/MyTable.py:95\u001b[0m, in \u001b[0;36mMyTable.print_row\u001b[0;34m(self, row_index)\u001b[0m\n\u001b[1;32m     93\u001b[0m \u001b[38;5;28;01mif\u001b[39;00m cat\u001b[38;5;241m.\u001b[39mcolored:\n\u001b[1;32m     94\u001b[0m     \u001b[38;5;28;01mif\u001b[39;00m \u001b[38;5;129;01mnot\u001b[39;00m \u001b[38;5;28misinstance\u001b[39m(row_vals, (\u001b[38;5;28mfloat\u001b[39m, \u001b[38;5;28mint\u001b[39m)):\n\u001b[0;32m---> 95\u001b[0m         \u001b[38;5;28;01mraise\u001b[39;00m \u001b[38;5;167;01mTypeError\u001b[39;00m(\u001b[38;5;124m\"\u001b[39m\u001b[38;5;124mColored categories can only accept numeric values\u001b[39m\u001b[38;5;124m\"\u001b[39m)\n\u001b[1;32m     96\u001b[0m     formatted_text \u001b[38;5;241m=\u001b[39m get_colored_text(formatted_text, row_vals)\n\u001b[1;32m     98\u001b[0m \u001b[38;5;28mprint\u001b[39m(\u001b[38;5;124mf\u001b[39m\u001b[38;5;124m\"\u001b[39m\u001b[38;5;124m \u001b[39m\u001b[38;5;132;01m{\u001b[39;00mformatted_text\u001b[38;5;132;01m}\u001b[39;00m\u001b[38;5;132;01m{\u001b[39;00m\u001b[38;5;124m'\u001b[39m\u001b[38;5;124m \u001b[39m\u001b[38;5;124m'\u001b[39m\u001b[38;5;250m \u001b[39m\u001b[38;5;241m*\u001b[39m\u001b[38;5;250m \u001b[39m(cat\u001b[38;5;241m.\u001b[39mpad_count(formatted_text))\u001b[38;5;132;01m}\u001b[39;00m\u001b[38;5;124m |\u001b[39m\u001b[38;5;124m\"\u001b[39m, end\u001b[38;5;241m=\u001b[39m\u001b[38;5;124m\"\u001b[39m\u001b[38;5;124m\"\u001b[39m)\n",
      "\u001b[0;31mTypeError\u001b[0m: Colored categories can only accept numeric values"
     ]
    }
   ],
   "source": [
    "convo_blurb = \"yoga\"\n",
    "\n",
    "brain_blurb = [\n",
    "    \"fitness\",\n",
    "    \"women\",\n",
    "    \"exercise\",\n",
    "    \"meditation\",\n",
    "    \"health\",\n",
    "    \"spirituality\",\n",
    "    \"place to meet people\",\n",
    "    \"place to meet women\"\n",
    "]\n",
    "\n",
    "embedding_main = MilvusUtil.get_embedding(convo_blurb, embedding_model, dim)\n",
    "embedding_comparisons: Dict[str, float] = {}\n",
    "print(f\"Mentioned in conversation: {convo_blurb}\")\n",
    "\n",
    "match_table = MyTable([TableCategory(\"brain match\", colored=False, custom_width=30),\n",
    "                       TableCategory(\"similarity\", colored=True),\n",
    "                       TableCategory(\"embed time\", colored=False),\n",
    "                       TableCategory(\"cosine time\", colored=False)])\n",
    "\n",
    "match_table.print_header()\n",
    "\n",
    "for blurb in brain_blurb:\n",
    "    # Get the embedding for the brain blurb\n",
    "    embed_time_start = time.time()\n",
    "    embedding = MilvusUtil.get_embedding(blurb, embedding_model, dim)\n",
    "    embed_elapsed_time = time.time() - embed_time_start\n",
    "    embedding_comparisons[blurb] = embedding\n",
    "\n",
    "    # Calculate the cosine similarity\n",
    "    cosine_time_start = time.time()\n",
    "    similarity = MilvusUtil.cosine_similarity(embedding_main, embedding)\n",
    "    cosine_elapsed_time = time.time() - cosine_time_start\n",
    "\n",
    "    match_table.add_row([blurb, similarity, embed_elapsed_time, cosine_elapsed_time])\n",
    "    match_table.print_last_row()\n",
    "\n",
    "match_table.print_footer()"
   ]
  }
 ],
 "metadata": {
  "kernelspec": {
   "display_name": ".venv",
   "language": "python",
   "name": "python3"
  },
  "language_info": {
   "codemirror_mode": {
    "name": "ipython",
    "version": 3
   },
   "file_extension": ".py",
   "mimetype": "text/x-python",
   "name": "python",
   "nbconvert_exporter": "python",
   "pygments_lexer": "ipython3",
   "version": "3.11.4"
  }
 },
 "nbformat": 4,
 "nbformat_minor": 5
}
