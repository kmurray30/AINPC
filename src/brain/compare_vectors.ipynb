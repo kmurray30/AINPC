{
 "cells": [
  {
   "cell_type": "markdown",
   "id": "eee136b8",
   "metadata": {},
   "source": [
    "### Setup"
   ]
  },
  {
   "cell_type": "code",
   "execution_count": 46,
   "id": "43816b3e",
   "metadata": {},
   "outputs": [],
   "source": [
    "# Reload the dependencies\n",
    "%reload_ext autoreload\n",
    "%autoreload 2\n",
    "\n",
    "import sys\n",
    "from typing import Dict\n",
    "import time\n",
    "\n",
    "sys.path.insert(0, \"../..\")\n",
    "from src.utils import MilvusUtil\n",
    "from src.tools.MyTable import MyTable, TableCategory\n",
    "\n",
    "# Options\n",
    "embedding_model = MilvusUtil.text_embedding_3_large\n",
    "dim = MilvusUtil.get_dimensions_of_model(embedding_model)\n"
   ]
  },
  {
   "cell_type": "code",
   "execution_count": 47,
   "id": "2fcb3785",
   "metadata": {},
   "outputs": [
    {
     "name": "stdout",
     "output_type": "stream",
     "text": [
      "Mentioned in conversation: yoga\n",
      "+--------------------------------+------------+------------+-------------+\n",
      "| brain match                    | similarity | embed time | cosine time |\n",
      "+--------------------------------+------------+------------+-------------+\n",
      "| fitness                        | \u001b[38;2;255;253;0m0.4971\u001b[0m     | 0.4033     | 0.0002      |\n",
      "| women                          | \u001b[38;2;255;163;0m0.2477\u001b[0m     | 0.4817     | 0.0003      |\n",
      "| exercise                       | \u001b[38;2;255;246;0m0.4761\u001b[0m     | 0.4357     | 0.0002      |\n",
      "| meditation                     | \u001b[38;2;176;255;0m0.6541\u001b[0m     | 0.1888     | 0.0002      |\n",
      "| health                         | \u001b[38;2;255;201;0m0.3517\u001b[0m     | 0.3341     | 0.0004      |\n",
      "| spirituality                   | \u001b[38;2;253;255;0m0.5036\u001b[0m     | 0.1521     | 0.0002      |\n",
      "| place to meet people           | \u001b[38;2;255;125;0m0.1906\u001b[0m     | 0.2468     | 0.0002      |\n",
      "| place to meet women            | \u001b[38;2;255;138;0m0.2101\u001b[0m     | 2.0462     | 0.0002      |\n",
      "+--------------------------------+------------+------------+-------------+\n"
     ]
    }
   ],
   "source": [
    "convo_blurb = \"yoga\"\n",
    "\n",
    "brain_blurb = [\n",
    "    \"fitness\",\n",
    "    \"women\",\n",
    "    \"exercise\",\n",
    "    \"meditation\",\n",
    "    \"health\",\n",
    "    \"spirituality\",\n",
    "    \"place to meet people\",\n",
    "    \"place to meet women\"\n",
    "]\n",
    "\n",
    "embedding_main = MilvusUtil.get_embedding(convo_blurb, embedding_model, dim)\n",
    "embedding_comparisons: Dict[str, float] = {}\n",
    "print(f\"Mentioned in conversation: {convo_blurb}\")\n",
    "\n",
    "match_table = MyTable([TableCategory(\"brain match\", colored=False, custom_width=30),\n",
    "                       TableCategory(\"similarity\", colored=True),\n",
    "                       TableCategory(\"embed time\", colored=False),\n",
    "                       TableCategory(\"cosine time\", colored=False)])\n",
    "\n",
    "match_table.print_header()\n",
    "\n",
    "for blurb in brain_blurb:\n",
    "    # Get the embedding for the brain blurb\n",
    "    embed_time_start = time.time()\n",
    "    embedding = MilvusUtil.get_embedding(blurb, embedding_model, dim)\n",
    "    embed_elapsed_time = time.time() - embed_time_start\n",
    "    embedding_comparisons[blurb] = embedding\n",
    "\n",
    "    # Calculate the cosine similarity\n",
    "    cosine_time_start = time.time()\n",
    "    similarity = MilvusUtil.cosine_similarity(embedding_main, embedding)\n",
    "    cosine_elapsed_time = time.time() - cosine_time_start\n",
    "\n",
    "    match_table.add_row([blurb, similarity, embed_elapsed_time, cosine_elapsed_time])\n",
    "    match_table.print_last_row()\n",
    "\n",
    "match_table.print_footer()"
   ]
  }
 ],
 "metadata": {
  "kernelspec": {
   "display_name": ".venv",
   "language": "python",
   "name": "python3"
  },
  "language_info": {
   "codemirror_mode": {
    "name": "ipython",
    "version": 3
   },
   "file_extension": ".py",
   "mimetype": "text/x-python",
   "name": "python",
   "nbconvert_exporter": "python",
   "pygments_lexer": "ipython3",
   "version": "3.11.4"
  }
 },
 "nbformat": 4,
 "nbformat_minor": 5
}
