{
 "cells": [
  {
   "cell_type": "markdown",
   "id": "eee136b8",
   "metadata": {},
   "source": [
    "### Setup"
   ]
  },
  {
   "cell_type": "code",
   "execution_count": 71,
   "id": "43816b3e",
   "metadata": {},
   "outputs": [],
   "source": [
    "# Reload the dependencies\n",
    "%reload_ext autoreload\n",
    "%autoreload 2\n",
    "\n",
    "import sys\n",
    "from typing import Dict\n",
    "\n",
    "sys.path.insert(0, \"../..\")\n",
    "from src.utils import MilvusUtil\n",
    "\n",
    "# Options\n",
    "embedding_model = MilvusUtil.text_embedding_3_large\n",
    "dim = MilvusUtil.get_dimensions_of_model(embedding_model)\n"
   ]
  },
  {
   "cell_type": "markdown",
   "id": "b698f37f",
   "metadata": {},
   "source": [
    "### Color function"
   ]
  },
  {
   "cell_type": "code",
   "execution_count": 72,
   "id": "b1d77b7d",
   "metadata": {},
   "outputs": [
    {
     "name": "stdout",
     "output_type": "stream",
     "text": [
      "\u001b[38;2;127;255;0mHello world!\u001b[0m\n"
     ]
    }
   ],
   "source": [
    "\n",
    "# Use a scale of 0 to 1 to create a text color code from red to yellow to green, continuously\n",
    "def get_color_code(value: float) -> str:\n",
    "    if value < 0 or value > 1:\n",
    "        raise ValueError(\"Value must be between 0 and 1\")\n",
    "    ranges = [0, 0.25, 0.5, 1]\n",
    "    if value < ranges[1]:\n",
    "        # Red (255,0,0) to Orange (255,165,0)\n",
    "        ratio = value / ranges[1]\n",
    "        r = 255\n",
    "        g = int(165 * ratio)\n",
    "        b = 0\n",
    "    elif value < ranges[2]:\n",
    "        # Orange (255,165,0) to Yellow (255,255,0)\n",
    "        ratio = (value - ranges[1]) / (ranges[2] - ranges[1])\n",
    "        r = 255\n",
    "        g = int(165 + (90 * ratio))\n",
    "        b = 0\n",
    "    else:\n",
    "        # Yellow (255,255,0) to Green (0,255,0)\n",
    "        ratio = (value - ranges[2]) / (ranges[3] - ranges[2])\n",
    "        r = int(255 * (1 - ratio))\n",
    "        g = 255\n",
    "        b = 0\n",
    "    return f\"\\033[38;2;{r};{g};{b}m\"\n",
    "\n",
    "def get_colored_text(text: str, value: float) -> str:\n",
    "    \"\"\"\n",
    "    Print text with a color code based on the value.\n",
    "    \"\"\"\n",
    "    color_code = get_color_code(value)\n",
    "    return(f\"{color_code}{text}\\033[0m\")\n",
    "\n",
    "print(get_colored_text(\"Hello world!\", 0.75))"
   ]
  },
  {
   "cell_type": "code",
   "execution_count": null,
   "id": "2fcb3785",
   "metadata": {},
   "outputs": [
    {
     "name": "stdout",
     "output_type": "stream",
     "text": [
      "Mentioned in conversation: yoga\n",
      "+--------------------------------+------------+------------+-------------+\n",
      "| brain match                    | similarity | embed time | cosine time |\n",
      "+--------------------------------+------------+------------+-------------+\n",
      "| fitness                        | \u001b[38;2;255;253;0m0.4971\u001b[0m     | 0.2979s    | 0.0002s     |\n",
      "| women                          | \u001b[38;2;255;163;0m0.2477\u001b[0m     | 0.3186s    | 0.0004s     |\n",
      "| exercise                       | \u001b[38;2;255;246;0m0.4761\u001b[0m     | 0.1964s    | 0.0004s     |\n",
      "| meditation                     | \u001b[38;2;176;255;0m0.6542\u001b[0m     | 0.4921s    | 0.0004s     |\n",
      "| health                         | \u001b[38;2;255;201;0m0.3515\u001b[0m     | 0.1652s    | 0.0004s     |\n",
      "| spirituality                   | \u001b[38;2;253;255;0m0.5036\u001b[0m     | 0.2708s    | 0.0004s     |\n",
      "| place to meet people           | \u001b[38;2;255;125;0m0.1907\u001b[0m     | 0.2826s    | 0.0003s     |\n",
      "| place to meet women            | \u001b[38;2;255;138;0m0.2101\u001b[0m     | 0.5063s    | 0.0003s     |\n",
      "+--------------------------------+------------+------------+-------------+\n"
     ]
    }
   ],
   "source": [
    "import time\n",
    "\n",
    "convo_blurb = \"yoga\"\n",
    "\n",
    "brain_blurb = [\n",
    "    \"fitness\",\n",
    "    \"women\",\n",
    "    \"exercise\",\n",
    "    \"meditation\",\n",
    "    \"health\",\n",
    "    \"spirituality\",\n",
    "    \"place to meet people\",\n",
    "    \"place to meet women\"\n",
    "]\n",
    "\n",
    "embedding_main = MilvusUtil.get_embedding(convo_blurb, embedding_model, dim)\n",
    "embedding_comparisons: Dict[str, float] = {}\n",
    "print(f\"Mentioned in conversation: {convo_blurb}\")\n",
    "\n",
    "class ColNames:\n",
    "    brain_match = \"brain match\"\n",
    "    similarity = \"similarity\"\n",
    "    embed_time = \"embed time\"\n",
    "    cosine_time = \"cosine time\"\n",
    "\n",
    "table_dimensions = {\n",
    "    ColNames.brain_match: 30,\n",
    "    ColNames.similarity: len(ColNames.similarity),\n",
    "    ColNames.embed_time: len(ColNames.embed_time),\n",
    "    ColNames.cosine_time: len(ColNames.cosine_time)\n",
    "}\n",
    "\n",
    "# Print the results in a formatted table (starting with header)\n",
    "print(\"+\" + \"-\" * (table_dimensions[ColNames.brain_match] + 2) + \"+\" +\n",
    "      \"-\" * (table_dimensions[ColNames.similarity] + 2) + \"+\" +\n",
    "      \"-\" * (table_dimensions[ColNames.embed_time] + 2) + \"+\" +\n",
    "      \"-\" * (table_dimensions[ColNames.cosine_time] + 2) + \"+\")\n",
    "print(f\"| {ColNames.brain_match}{' ' * (table_dimensions[ColNames.brain_match] - len(ColNames.brain_match))} | \" +\n",
    "        f\"{ColNames.similarity}{' ' * (table_dimensions[ColNames.similarity] - len(ColNames.similarity))} | \" +\n",
    "        f\"{ColNames.embed_time}{' ' * (table_dimensions[ColNames.embed_time] - len(ColNames.embed_time))} | \" +\n",
    "        f\"{ColNames.cosine_time}{' ' * (table_dimensions[ColNames.cosine_time] - len(ColNames.cosine_time))} |\")\n",
    "print(\"+\" + \"-\" * (table_dimensions[ColNames.brain_match] + 2) + \"+\" +\n",
    "      \"-\" * (table_dimensions[ColNames.similarity] + 2) + \"+\" +\n",
    "      \"-\" * (table_dimensions[ColNames.embed_time] + 2) + \"+\" +\n",
    "      \"-\" * (table_dimensions[ColNames.cosine_time] + 2) + \"+\")\n",
    "for blurb in brain_blurb:\n",
    "    # Get the embedding for the brain blurb\n",
    "    embed_time_start = time.time()\n",
    "    embedding = MilvusUtil.get_embedding(blurb, embedding_model, dim)\n",
    "    embed_elapsed_time = time.time() - embed_time_start\n",
    "    embedding_comparisons[blurb] = embedding\n",
    "\n",
    "    # Calculate the cosine similarity\n",
    "    cosine_time_start = time.time()\n",
    "    similarity = MilvusUtil.cosine_similarity(embedding_main, embedding)\n",
    "    cosine_elapsed_time = time.time() - cosine_time_start\n",
    "\n",
    "    colored_similarity_value: str = get_colored_text(f\"{similarity:.4f}\", similarity)\n",
    "\n",
    "    print(f\"| {blurb + ' ' * (table_dimensions[ColNames.brain_match] - len(blurb))} | \"\n",
    "          f\"{colored_similarity_value + ' ' * (table_dimensions[ColNames.similarity] + 1 - len(f'{similarity:.4f}s'))} | \"\n",
    "          f\"{f'{embed_elapsed_time:.4f}s' + ' ' * (table_dimensions[ColNames.embed_time] - len(f'{embed_elapsed_time:.4f}s'))} | \"\n",
    "          f\"{f'{cosine_elapsed_time:.4f}s' + ' ' * (table_dimensions[ColNames.cosine_time] - len(f'{cosine_elapsed_time:.4f}s'))} |\")\n",
    "print(\"+\" + \"-\" * (table_dimensions[ColNames.brain_match] + 2) + \"+\" +\n",
    "      \"-\" * (table_dimensions[ColNames.similarity] + 2) + \"+\" +\n",
    "      \"-\" * (table_dimensions[ColNames.embed_time] + 2) + \"+\" +\n",
    "      \"-\" * (table_dimensions[ColNames.cosine_time] + 2) + \"+\")"
   ]
  }
 ],
 "metadata": {
  "kernelspec": {
   "display_name": ".venv",
   "language": "python",
   "name": "python3"
  },
  "language_info": {
   "codemirror_mode": {
    "name": "ipython",
    "version": 3
   },
   "file_extension": ".py",
   "mimetype": "text/x-python",
   "name": "python",
   "nbconvert_exporter": "python",
   "pygments_lexer": "ipython3",
   "version": "3.11.4"
  }
 },
 "nbformat": 4,
 "nbformat_minor": 5
}
