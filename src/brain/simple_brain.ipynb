{
 "cells": [
  {
   "cell_type": "code",
   "execution_count": 5,
   "id": "bee21b7b",
   "metadata": {},
   "outputs": [],
   "source": [
    "%reload_ext autoreload\n",
    "%autoreload 2\n",
    "\n",
    "import sys\n",
    "sys.path.insert(0, \"../..\")\n",
    "\n",
    "from src.utils import MilvusUtil\n",
    "from src.core.schemas.CollectionSchemas import Entity"
   ]
  },
  {
   "cell_type": "code",
   "execution_count": null,
   "id": "f9d6a894",
   "metadata": {},
   "outputs": [
    {
     "ename": "",
     "evalue": "",
     "output_type": "error",
     "traceback": [
      "\u001b[1;31mThe Kernel crashed while executing code in the current cell or a previous cell. \n",
      "\u001b[1;31mPlease review the code in the cell(s) to identify a possible cause of the failure. \n",
      "\u001b[1;31mClick <a href='https://aka.ms/vscodeJupyterKernelCrash'>here</a> for more info. \n",
      "\u001b[1;31mView Jupyter <a href='command:jupyter.viewOutput'>log</a> for further details."
     ]
    }
   ],
   "source": [
    "MilvusUtil.disconnect_server()\n",
    "\n"
   ]
  },
  {
   "cell_type": "code",
   "execution_count": null,
   "id": "9838b67e",
   "metadata": {},
   "outputs": [
    {
     "name": "stdout",
     "output_type": "stream",
     "text": [
      "Checking for running processes listening on port 19530\n",
      "Found running process milvus 2236 on port 19530\n",
      "Connecting to established Milvus server\n",
      "Connected to Milvus server\n",
      "\n",
      "Dropping collection test_collection\n",
      "Creating collection test_collection\n",
      "Inserting 2 records into collection test_collection\n",
      "Collection now has 2 entities\n",
      "Querying for please be brief\n",
      "Hits: [Entity(key='be concise', content='keep responses brief', tags=['traits'], id=460300414123770820, embedding=None), Entity(key='close app', content='prefers to end session if annoyed', tags=['goals'], id=460300414123770819, embedding=None)]\n"
     ]
    }
   ],
   "source": [
    "\n",
    "\n",
    "TEST_DIMENSION = 1536\n",
    "\n",
    "MilvusUtil.initialize_server()\n",
    "collection_name = \"test_collection\"\n",
    "MilvusUtil.drop_collection_if_exists(collection_name)\n",
    "collection = MilvusUtil.load_or_create_collection_from_cls(collection_name, dim=TEST_DIMENSION, model_cls=Entity)\n",
    "\n",
    "rows = [\n",
    "    Entity(key=\"close app\", content=\"prefers to end session if annoyed\", tags=[\"goals\"]),\n",
    "    Entity(key=\"be concise\", content=\"keep responses brief\", tags=[\"traits\"]),\n",
    "]\n",
    "MilvusUtil.insert_dataclasses(collection, rows)\n",
    "collection.flush()\n",
    "print(f\"Collection now has {collection.num_entities} entities\")\n",
    "\n",
    "query_text = \"please be brief\"\n",
    "print(f\"Querying for \\\"{query_text}\\\"\")\n",
    "query = MilvusUtil.get_embedding(query_text, model=MilvusUtil.text_embedding_3_small)\n",
    "hits = MilvusUtil.search_relevant_records(collection, [query], model_cls=Entity, topk=2)\n",
    "print(f\"Hits: {hits}\")"
   ]
  }
 ],
 "metadata": {
  "kernelspec": {
   "display_name": ".venv",
   "language": "python",
   "name": "python3"
  },
  "language_info": {
   "codemirror_mode": {
    "name": "ipython",
    "version": 3
   },
   "file_extension": ".py",
   "mimetype": "text/x-python",
   "name": "python",
   "nbconvert_exporter": "python",
   "pygments_lexer": "ipython3",
   "version": "3.11.4"
  }
 },
 "nbformat": 4,
 "nbformat_minor": 5
}
