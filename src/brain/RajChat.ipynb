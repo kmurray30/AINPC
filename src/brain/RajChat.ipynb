{
 "cells": [
  {
   "cell_type": "code",
   "execution_count": null,
   "metadata": {},
   "outputs": [],
   "source": [
    "# Reload the dependencies\n",
    "%reload_ext autoreload\n",
    "%autoreload 2\n",
    "\n",
    "import sys\n",
    "from enum import Enum\n",
    "from typing import List\n",
    "\n",
    "sys.path.insert(0, \"../..\")\n",
    "from src.core.Constants import Llm\n",
    "from src.utils.ChatBot import ChatBot\n",
    "\n",
    "# Initialize the chatbot\n",
    "chatbot = ChatBot(model=Llm.gpt_4o_mini)\n",
    "\n",
    "messages = []\n",
    "system_prompt = \"\"\"\n",
    "You are a character writer.\n",
    "\"\"\"\n",
    "messages.append({\"role\": \"system\", \"content\": system_prompt})\n",
    "\n",
    "what_i_say_title = \"What I say\"\n",
    "raj_info_title = \"Raj info\"\n"
   ]
  },
  {
   "cell_type": "code",
   "execution_count": 4,
   "metadata": {},
   "outputs": [],
   "source": [
    "prompt_shell = f\"\"\"\n",
    "Given the following things about Raj, please generate character responses from Raj to the subsequent '{what_i_say_title}' and using the prior conversation as context.\n",
    "\n",
    "Context:\n",
    "I am a man and fellow coworker of Raj having a conversation with him.\n",
    "\n",
    "{raj_info_title}:\n",
    "$$$RAJINFO$$$\n",
    "\n",
    "{what_i_say_title}:\n",
    "$$$PLAYERMESSAGE$$$\n",
    "\n",
    "Response format:\n",
    "Relevant traits: ...\n",
    "Possible angles: [Describe each one in a bullet point]\n",
    "Response: [Keep it very short (1-2 sentences MAX) and in character. Try to use most or all of the angles. Use Raj's voice and mannerisms. Use stage directions (nothing cheesey).]\n",
    "\"\"\""
   ]
  },
  {
   "cell_type": "markdown",
   "metadata": {},
   "source": [
    "Set up matrix"
   ]
  },
  {
   "cell_type": "code",
   "execution_count": 47,
   "metadata": {},
   "outputs": [],
   "source": [
    "class Trait(Enum):\n",
    "    # Base\n",
    "    cool = \"Tries to act cool and stylish—shortens words to glam them up, avoids clichés.\"\n",
    "    chill = \"Maintains a chill, low-energy demeanor unless showing off helps his image.\"\n",
    "    innovative = \"Overinvests in seeming innovative or trendy, with a try-hard cargo-cult approach to coolness.\"\n",
    "    pop_culture = \"Into swag and pop culture in a wannabe way.\"\n",
    "    decent = \"Fundamentally decent and non-threatening, but clueless and self-centered.\"\n",
    "    humility = \"Will crack the facade and show genuine vulnerable side if anyone calls him out.\"\n",
    "    selfishness = \"Self-centered and self-serving. Will usually try to make things about himself.\"\n",
    "\n",
    "    # yoga\n",
    "    objectifies_women = \"Objectifies women — sees them as individuals, but also as a way to impress. Has a harmless puppy-dog facade.\"\n",
    "    impress_women = \"Seeks situations where he can impress women. Likes to talk about them like a pick up artist.\"\n",
    "    fashion = \"Into fashion and wearing expensive outfits tailored to occasions\"\n",
    "    scrawny = \"Physically scrawny; avoids situations that might emasculate him or involve overexertion. Acts mildly prima donna about his body, but not flamboyantly.\"\n",
    "    anti_lame = \"Judges and avoids anything stereotypically “lame” or nerdy.\"\n",
    "    \n",
    "    # gov\n",
    "    gossip = \"Enjoys gossiping about people\"\n",
    "    networking = \"Likes to network and make connections. Wants to position himself as someone who knows important people, but acknowledges that he currently doesn't.\"\n",
    "    gov_lame = \"Thinks most day to day government work is lame, and has given up on trying to make it cool.\"\n",
    "    # opportunism = \"Likes to make things about himself and angle it so he can personally gain from opportunities.\"\n",
    "    # opportunism = \"If someone else has an opportunity or good fortue, he will insert himself and try to personally gain from it.\"\n",
    "    opportunism = \"If someone else has an opportunity or good fortune, he will eagerly and untactfully insert himself and try to personally gain from it, if not take it for himself.\"\n",
    "\n",
    "    # job\n",
    "    job_hopes = \"Had hoped that working in the government could get him connections and clout, but all it is is a boring desk job.\"\n",
    "    job_coping = \"Tries to cope with the letdown of his government job by trying to make it seem cool and impressive.\"\n",
    "\n",
    "    # thousand\n",
    "    impulsive = \"Likes to spend money impulsively on lavish things\"\n",
    "    entrepeneur = \"As a part of his creative spritit and desire to make a name for himself, he has a desire to start businesses that seem cool and innovative. Usually in trendy spaces.\"\n",
    "\n",
    "    # tired\n",
    "    sadness = \"Has a sadness underneath his persona. When leveled with on a human level, he will drop his swag persona and show a more vulnerable side.\"\n",
    "    neuroticism = \"He can be neurotic and manic with his schemes, sometimes overextending himself.\"\n",
    "\n",
    "    # star trek\n",
    "    bully = \"Will sometimes bully people who are nerdy or into things he thinks are lame. He is a little bit of a bully, but not in a mean way. He is just trying to be cool.\"\n",
    "\n",
    "    # vulnerable\n",
    "    coping = \"In times of stress, sadness, and dissapointment, when there are things in his life he's deeply unhappy about or just aren't going his way, he will lean more into his persona and scheme-y nature. It can be a negative feedback loop.\"\n",
    "    investments = \"He is currently invested in aesthetic and lifestly choices that would make him seem cool. He is also invested in a local night club.\"\n",
    "    disappointment = \"He is currently disappointed with his life and career. Also lately his schemes haven't been paying off and impulse purchases have not been living up to his expectations.\"\n",
    "\n",
    "    # sports\n",
    "    sports = \"He is not into traditionally masculine things like sports, nor is athletic. He would try to pivot at the topic into something related but more trendy or cool.\"\n",
    "\n",
    "questions_and_info = {\n",
    "    \"base\": {\n",
    "        \"raj_question\": None,\n",
    "        \"raj_info\": [Trait.cool, Trait.chill, Trait.innovative, Trait.pop_culture, Trait.decent, Trait.humility, Trait.selfishness]\n",
    "    },\n",
    "    \"yoga\": {\n",
    "        \"raj_question\": \"Hey, wanna go to a yoga class with me tomorrow morning?\",\n",
    "        \"raj_info\": [Trait.objectifies_women, Trait.impress_women, Trait.fashion, Trait.scrawny, Trait.anti_lame],\n",
    "    },\n",
    "    \"gov\": {\n",
    "        \"raj_question\": \"Did you hear councilman Roberts is losing his seat? One too many affairs, I guess. I think I might run for his position.\",\n",
    "        \"raj_info\": [Trait.gossip, Trait.networking, Trait.gov_lame, Trait.opportunism]\n",
    "    },\n",
    "    \"job\": {\n",
    "        \"raj_question\": \"I'm surprised you work in the government of all places. What made you choose that?\",\n",
    "        \"raj_info\": [Trait.job_hopes, Trait.job_coping]\n",
    "    },\n",
    "    \"thousand\": {\n",
    "        \"raj_question\": \"Yo Raj, I just got a thousand bucks from my parents. What should I do with it?\",\n",
    "        \"raj_info\": [Trait.impulsive, Trait.entrepeneur, Trait.networking, Trait.opportunism]\n",
    "    },\n",
    "    \"tired\": {\n",
    "        \"raj_question\": \"Yo man, you're looking a little tired today. Up late last night?\",\n",
    "        \"raj_info\": [Trait.sadness, Trait.neuroticism, Trait.investments]\n",
    "    },\n",
    "    \"star trek\": {\n",
    "        \"raj_question\": \"Dude I don't know what kind of TV you're into but I just started watching Star Trek. It's so good!\",\n",
    "        \"raj_info\": [Trait.anti_lame, Trait.bully]\n",
    "    },\n",
    "    \"vulnerable\": {\n",
    "        \"raj_question\": \"Hey man, I've noticed you've seemed a bit more on edge lately. Everything okay?\",\n",
    "        \"raj_info\": [Trait.sadness, Trait.coping, Trait.investments, Trait.disappointment]\n",
    "    },\n",
    "    \"sports\": {\n",
    "        \"raj_question\": \"Hey, did you catch the game last night? What a finish!\",\n",
    "        \"raj_info\": [Trait.sports, Trait.scrawny]\n",
    "    }\n",
    "}"
   ]
  },
  {
   "cell_type": "code",
   "execution_count": 67,
   "metadata": {},
   "outputs": [
    {
     "name": "stdout",
     "output_type": "stream",
     "text": [
      "Player: Hey, did you catch the game last night? What a finish!\n",
      "\n",
      "Raj: Relevant traits: \n",
      "- Tries to act cool and stylish\n",
      "- Avoids clichés\n",
      "- Low-energy demeanor until showing off\n",
      "- Self-centered\n",
      "- Clueless about sports\n",
      "\n",
      "Possible angles:\n",
      "- Pivoting from sports to pop culture\n",
      "- Mentioning trends or coolness\n",
      "- Keeping it short and nonchalant\n",
      "- Indicating mild indifference to the game\n",
      "\n",
      "Response: *Leans back, adjusting his shades.* \"Game? Nah, I missed it. But did you see that new fashion collab dropping? Total fire. That’s a real win, man.\"\n"
     ]
    }
   ],
   "source": [
    "question_category = \"sports\"\n",
    "player_message = None # If set to none, the message history will be cleared and the initial question will be asked\n",
    "\n",
    "# Replace placeholders in the prompt with actual values\n",
    "messages = messages if player_message is not None else [{\"role\": \"system\", \"content\": \"You are a character writer.\"}]\n",
    "raj_info_list_enum: List[Trait] = questions_and_info[\"base\"][\"raj_info\"] + questions_and_info[question_category][\"raj_info\"]\n",
    "raj_info_list_str = [trait.value for trait in raj_info_list_enum]\n",
    "raj_info = \"\\n\".join(raj_info_list_str)\n",
    "player_message = player_message if player_message is not None else questions_and_info[question_category][\"raj_question\"]\n",
    "prompt = prompt_shell.replace(\"$$$RAJINFO$$$\", raj_info).replace(\"$$$PLAYERMESSAGE$$$\", player_message)\n",
    "\n",
    "# Call 4o-mini to generate the response\n",
    "messages.append({\"role\": \"user\", \"content\": prompt})\n",
    "response = chatbot.call_chat_agent(messages)\n",
    "# messages.pop()\n",
    "messages.append({\"role\": \"assistant\", \"content\": response})\n",
    "print(\"Player: \" + player_message)\n",
    "print(\"\\nRaj: \" + response)"
   ]
  },
  {
   "cell_type": "code",
   "execution_count": 55,
   "metadata": {},
   "outputs": [
    {
     "name": "stdout",
     "output_type": "stream",
     "text": [
      "[{'role': 'system', 'content': 'You are a character writer.'}, {'role': 'user', 'content': \"\\nGiven the following things about Raj, please generate character responses from Raj to the subsequent 'What I say' and using the prior conversation as context.\\n\\nContext:\\nI am a man and fellow coworker of Raj having a conversation with him.\\n\\nRaj info:\\nTries to act cool and stylish—shortens words to glam them up, avoids clichés.\\nMaintains a chill, low-energy demeanor unless showing off helps his image.\\nOverinvests in seeming innovative or trendy, with a try-hard cargo-cult approach to coolness.\\nInto swag and pop culture in a wannabe way.\\nFundamentally decent and non-threatening, but clueless and self-centered.\\nWill crack the facade and show genuine vulnerable side if anyone calls him out.\\nSelf-centered and self-serving. Will usually try to make things about himself.\\nHas a sadness underneath his persona. When leveled with on a human level, he will drop his swag persona and show a more vulnerable side.\\nIn times of stress, sadness, and dissapointment, when there are things in his life he's deeply unhappy about or just aren't going his way, he will lean more into his persona and scheme-y nature. It can be a negative feedback loop.\\nHe is currently invested in aesthetic and lifestly choices that would make him seem cool. He is also invested in a local night club.\\nHe is currently disappointed with his life and career. Also lately his schemes haven't been paying off and impulse purchases have not been living up to his expectations.\\n\\nWhat I say:\\nHey man, I've noticed you've seemed a bit more on edge lately. Everything okay?\\n\\nResponse format:\\nRelevant traits: ...\\nPossible angles: [Describe each one in a bullet point]\\nResponse: [Keep it very short (1-2 sentences MAX) and in character. Try to use most or all of the angles. Use Raj's voice and mannerisms. Use stage directions (nothing cheesey).]\\n\"}, {'role': 'assistant', 'content': 'Relevant traits: \\n- Maintaining chill facade\\n- Self-centered nature \\n- Underlying sadness\\n- Cluelessness in social situations \\n- Potential to show vulnerability \\n\\nPossible angles:\\n- Deflect and redirect the conversation to demonstrate his ‘coolness’ \\n- Lean into his swag persona for distraction \\n- Hint at vulnerability if confronted directly\\n\\nResponse: (leans back, smoothing his hair) \"Nah, man, just vibin\\', you know? Gotta keep the grind fresh—new club nights drop soon, so it’s all about that aesthetic hustle.\" (grins, but there\\'s a fleeting sadness in his eyes)'}, {'role': 'user', 'content': \"\\nGiven the following things about Raj, please generate character responses from Raj to the subsequent 'What I say' and using the prior conversation as context.\\n\\nContext:\\nI am a man and fellow coworker of Raj having a conversation with him.\\n\\nRaj info:\\nTries to act cool and stylish—shortens words to glam them up, avoids clichés.\\nMaintains a chill, low-energy demeanor unless showing off helps his image.\\nOverinvests in seeming innovative or trendy, with a try-hard cargo-cult approach to coolness.\\nInto swag and pop culture in a wannabe way.\\nFundamentally decent and non-threatening, but clueless and self-centered.\\nWill crack the facade and show genuine vulnerable side if anyone calls him out.\\nSelf-centered and self-serving. Will usually try to make things about himself.\\nHas a sadness underneath his persona. When leveled with on a human level, he will drop his swag persona and show a more vulnerable side.\\nIn times of stress, sadness, and dissapointment, when there are things in his life he's deeply unhappy about or just aren't going his way, he will lean more into his persona and scheme-y nature. It can be a negative feedback loop.\\nHe is currently invested in aesthetic and lifestly choices that would make him seem cool. He is also invested in a local night club.\\nHe is currently disappointed with his life and career. Also lately his schemes haven't been paying off and impulse purchases have not been living up to his expectations.\\n\\nWhat I say:\\nYou sure? Seems like you've been down\\n\\nResponse format:\\nRelevant traits: ...\\nPossible angles: [Describe each one in a bullet point]\\nResponse: [Keep it very short (1-2 sentences MAX) and in character. Try to use most or all of the angles. Use Raj's voice and mannerisms. Use stage directions (nothing cheesey).]\\n\"}, {'role': 'assistant', 'content': 'Relevant traits: \\n- Deflection to maintain facade \\n- Low-energy demeanor \\n- Deep-seated sadness \\n- Self-centered nature \\n- Vulnerability underlying persona \\n\\nPossible angles:\\n- Minimize the concern while projecting \\'cool\\' \\n- Make it about his recent club developments \\n- Allow a hint of vulnerability if pressed further \\n\\nResponse: (shrugs casually, adjusting his jacket) \"Down? Nah, just gettin’ my aesthetic in check, ya feel? But, hey, the club’s gonna drop a new vibe soon, so that’s where the real juice is.\" (smirks, but his eyes flicker with a momentary hint of sadness)'}]\n"
     ]
    }
   ],
   "source": [
    "print(messages)"
   ]
  }
 ],
 "metadata": {
  "kernelspec": {
   "display_name": ".venv",
   "language": "python",
   "name": "python3"
  },
  "language_info": {
   "codemirror_mode": {
    "name": "ipython",
    "version": 3
   },
   "file_extension": ".py",
   "mimetype": "text/x-python",
   "name": "python",
   "nbconvert_exporter": "python",
   "pygments_lexer": "ipython3",
   "version": "3.11.4"
  }
 },
 "nbformat": 4,
 "nbformat_minor": 2
}
