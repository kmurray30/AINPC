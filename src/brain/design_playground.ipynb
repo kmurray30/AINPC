{
 "cells": [
  {
   "cell_type": "code",
   "execution_count": null,
   "id": "1401565f",
   "metadata": {},
   "outputs": [],
   "source": [
    "# Reload the dependencies\n",
    "%reload_ext autoreload\n",
    "%autoreload 2\n",
    "\n",
    "from dataclasses import dataclass\n",
    "from datetime import datetime\n",
    "from typing import List\n",
    "import sys\n",
    "sys.path.insert(0, \"../..\")\n",
    "\n",
    "@dataclass\n",
    "class Entity:\n",
    "    id: str\n",
    "    blurb: str\n",
    "    embedding: List[float]\n",
    "\n",
    "@dataclass\n",
    "class Claim:\n",
    "    id: str\n",
    "    subject: str\n",
    "    object: str\n",
    "    valid_start: datetime\n",
    "    valid_end: datetime\n",
    "    embedding: List[float]\n",
    "\n",
    "@dataclass\n",
    "class ClaimEdge:\n",
    "    id: str\n",
    "    from_claim_id: str\n",
    "    to_claim_id: str\n",
    "    rel_type: str\n",
    "    valid_start: datetime\n",
    "    valid_end: datetime\n",
    "\n",
    "@dataclass\n",
    "class Facet:\n",
    "    blurb: str\n",
    "    embedding: List[float]\n",
    "    support_claim_ids: List[str]\n",
    "    embedding: List[float]\n",
    "\n",
    "@dataclass\n",
    "class Profile:\n",
    "    id: str\n",
    "    blurb: str\n",
    "    support_claim_ids: List[str]\n",
    "    embedding: List[float]\n",
    "\n"
   ]
  }
 ],
 "metadata": {
  "language_info": {
   "name": "python"
  }
 },
 "nbformat": 4,
 "nbformat_minor": 5
}
