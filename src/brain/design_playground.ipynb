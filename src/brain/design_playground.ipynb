{
 "cells": [
  {
   "cell_type": "code",
   "execution_count": null,
   "id": "1f8bc6d3",
   "metadata": {},
   "outputs": [],
   "source": [
    "\n",
    "\"I've been sleeping around\"\n",
    "\"Bob is suspicious that Tim and Allen are going to tell his wife that he's been sleeping around\"\n",
    "\"Did you know that Tom is sleeping with Jerry's wife?\"\n",
    "\"I already told you, you're not getting that promotion!\"\n",
    "\"Why don't you care about me?\"\n",
    "\"The man who through the ball out the window was calling for you.\"\n"
   ]
  },
  {
   "cell_type": "code",
   "execution_count": null,
   "id": "1401565f",
   "metadata": {},
   "outputs": [
    {
     "name": "stdout",
     "output_type": "stream",
     "text": [
      "\u001b[90mRaw response from LLM: {\n",
      "    \"subject\": \"Bob\",\n",
      "    \"object\": \"Tom\",\n",
      "    \"predicate\": \"thinks Tom is a good person\"\n",
      "}\u001b[0m\n",
      "EntityIdentificationResponse(subject='Bob', object='Tom', predicate='thinks Tom is a good person')\n",
      "\u001b[90mRaw response from LLM: {\n",
      "    \"subject\": \"Tom\",\n",
      "    \"object\": \"Bob\",\n",
      "    \"predicate\": \"is punched by\"\n",
      "}\u001b[0m\n",
      "EntityIdentificationResponse(subject='Tom', object='Bob', predicate='is punched by')\n",
      "Bob punched Tom.\n"
     ]
    }
   ],
   "source": [
    "# Reload the dependencies\n",
    "%reload_ext autoreload\n",
    "%autoreload 2\n",
    "\n",
    "from dataclasses import dataclass, field\n",
    "from datetime import datetime\n",
    "from typing import List\n",
    "import sys\n",
    "sys.path.insert(0, \"../..\")\n",
    "\n",
    "from src.core.Agent import Agent\n",
    "from src.core.ChatMessage import ChatMessage\n",
    "from src.core.Constants import Role, Llm\n",
    "\n",
    "from src.utils import Logger\n",
    "from src.utils.Logger import Level\n",
    "\n",
    "Logger.set_level(Level.DEBUG)\n",
    "\n",
    "@dataclass\n",
    "class Entity:\n",
    "    id: str\n",
    "    blurb: str\n",
    "    embedding: List[float]\n",
    "\n",
    "@dataclass\n",
    "class Claim:\n",
    "    id: str\n",
    "    subject: str\n",
    "    object: str\n",
    "    valid_start: datetime\n",
    "    valid_end: datetime\n",
    "    embedding: List[float]\n",
    "\n",
    "@dataclass\n",
    "class ClaimEdge:\n",
    "    id: str\n",
    "    from_claim_id: str\n",
    "    to_claim_id: str\n",
    "    rel_type: str\n",
    "    valid_start: datetime\n",
    "    valid_end: datetime\n",
    "\n",
    "@dataclass\n",
    "class Facet:\n",
    "    blurb: str\n",
    "    embedding: List[float]\n",
    "    support_claim_ids: List[str]\n",
    "    embedding: List[float]\n",
    "\n",
    "@dataclass\n",
    "class Profile:\n",
    "    id: str\n",
    "    blurb: str\n",
    "    support_claim_ids: List[str]\n",
    "    embedding: List[float]"
   ]
  },
  {
   "cell_type": "code",
   "execution_count": 26,
   "id": "e24d9236",
   "metadata": {},
   "outputs": [
    {
     "name": "stdout",
     "output_type": "stream",
     "text": [
      "\u001b[90mRaw response from LLM: {\n",
      "    \"entities\": \"Bob; Tom\"\n",
      "}\u001b[0m\n",
      "EntityIdentificationResponse(entities='Bob; Tom')\n",
      "\u001b[90mRaw response from LLM: {\n",
      "    \"entities\": \"Tom; Bob\"\n",
      "}\u001b[0m\n",
      "EntityIdentificationResponse(entities='Tom; Bob')\n",
      "\u001b[90mRaw response from LLM: {\n",
      "    \"entities\": \"guy; ball; window\"\n",
      "}\u001b[0m\n",
      "EntityIdentificationResponse(entities='guy; ball; window')\n"
     ]
    }
   ],
   "source": [
    "model = Llm.gpt_4o_mini\n",
    "\n",
    "@dataclass\n",
    "class EntityIdentificationResponse:\n",
    "    entities: str = field(metadata={\"desc\": \"A list of entities in the text.\"})\n",
    "\n",
    "\n",
    "parsing_agent = Agent(\n",
    "    system_prompt=\"You are a text parser. You will be given a message and you will need to identify components of the text.\",\n",
    "    response_type=EntityIdentificationResponse,\n",
    "    llm_model=model)\n",
    "\n",
    "\n",
    "response = parsing_agent.chat_with_message(\"Bob thinks Tom is a good person.\")\n",
    "print(response)\n",
    "\n",
    "response = parsing_agent.chat_with_message(\"Tom is punched by Bob.\")\n",
    "print(response)\n",
    "\n",
    "response = parsing_agent.chat_with_message(\"Do you remember that guy who threw the ball out the window?\")\n",
    "print(response)\n",
    "\n"
   ]
  },
  {
   "cell_type": "code",
   "execution_count": null,
   "id": "74ed17f8",
   "metadata": {},
   "outputs": [],
   "source": [
    "reorder_agent = Agent(\n",
    "    system_prompt=\"You are a sentence reorderer. You will be given a sentence and you will need to reorder it such that the subject is at the beginning of the sentence and the object is at the end of the sentence.\",\n",
    "    response_type=None,\n",
    "    llm_model=model)\n",
    "\n",
    "reordered = reorder_agent.chat_with_message(\"Tom is punched by Bob.\")\n",
    "print(reordered)"
   ]
  },
  {
   "cell_type": "code",
   "execution_count": 24,
   "id": "b6c3bb8f",
   "metadata": {},
   "outputs": [
    {
     "name": "stdout",
     "output_type": "stream",
     "text": [
      "\u001b[90mRaw response from LLM: {\n",
      "    \"claims\": [\n",
      "        \"Bob is suspicious about Tim and Allen's intentions.\",\n",
      "        \"Bob believes Tim and Allen might inform his wife about his infidelity.\"\n",
      "    ]\n",
      "}\u001b[0m\n",
      "ClaimExtractionResponse(claims=[\"Bob is suspicious about Tim and Allen's intentions.\", 'Bob believes Tim and Allen might inform his wife about his infidelity.'])\n"
     ]
    }
   ],
   "source": [
    "@dataclass\n",
    "class ClaimExtractionResponse:\n",
    "    claims: List[str] = field(metadata={\"desc\": \"A list of truths that the text assumes or claims to be true.\"})\n",
    "\n",
    "claim_extractor = Agent(\n",
    "    system_prompt=\"You are a claim extractor. You will be given a text and you will need to extract the claims.\",\n",
    "    response_type=ClaimExtractionResponse,\n",
    "    llm_model=Llm.gpt_4o_mini)\n",
    "\n",
    "response = claim_extractor.chat_with_message(\"Bob is suspicious that Tim and Allen are going to tell his wife that he's been sleeping around\")\n",
    "print(response)\n"
   ]
  }
 ],
 "metadata": {
  "kernelspec": {
   "display_name": ".venv",
   "language": "python",
   "name": "python3"
  },
  "language_info": {
   "codemirror_mode": {
    "name": "ipython",
    "version": 3
   },
   "file_extension": ".py",
   "mimetype": "text/x-python",
   "name": "python",
   "nbconvert_exporter": "python",
   "pygments_lexer": "ipython3",
   "version": "3.11.4"
  }
 },
 "nbformat": 4,
 "nbformat_minor": 5
}
