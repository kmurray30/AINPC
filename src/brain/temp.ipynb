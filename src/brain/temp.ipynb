{
 "cells": [
  {
   "cell_type": "code",
   "execution_count": 3,
   "id": "1a1a4aba",
   "metadata": {},
   "outputs": [
    {
     "name": "stdout",
     "output_type": "stream",
     "text": [
      "{1, 2, 3, 4, 5}\n",
      "3 is in the set.\n",
      "Numbers in lookup but not in my_list_2: [1, 2, 3]\n"
     ]
    }
   ],
   "source": [
    "lookup: set[int] = set()\n",
    "\n",
    "my_list: list[int] = [1, 2, 3, 4, 5]\n",
    "\n",
    "lookup.update(my_list)\n",
    "\n",
    "print(lookup)\n",
    "\n",
    "# Check if a number is in the set\n",
    "number_to_check = 3\n",
    "if number_to_check in lookup:\n",
    "    print(f\"{number_to_check} is in the set.\")\n",
    "\n",
    "my_list_2: list[int] = [4, 5, 6, 7, 8]\n",
    "\n",
    "# Generate a list of numbers that are in lookup but not in my_list_2\n",
    "difference_list: list[int] = [num for num in lookup if num not in my_list_2]\n",
    "print(\"Numbers in lookup but not in my_list_2:\", difference_list)"
   ]
  }
 ],
 "metadata": {
  "kernelspec": {
   "display_name": ".venv",
   "language": "python",
   "name": "python3"
  },
  "language_info": {
   "codemirror_mode": {
    "name": "ipython",
    "version": 3
   },
   "file_extension": ".py",
   "mimetype": "text/x-python",
   "name": "python",
   "nbconvert_exporter": "python",
   "pygments_lexer": "ipython3",
   "version": "3.11.4"
  }
 },
 "nbformat": 4,
 "nbformat_minor": 5
}
