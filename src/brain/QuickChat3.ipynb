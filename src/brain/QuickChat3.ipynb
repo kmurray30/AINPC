{
 "cells": [
  {
   "cell_type": "code",
   "execution_count": 51,
   "metadata": {},
   "outputs": [],
   "source": [
    "# Reload the dependencies\n",
    "%reload_ext autoreload\n",
    "%autoreload 2\n",
    "\n",
    "import sys\n",
    "\n",
    "sys.path.insert(0, \"../..\")\n",
    "from src.core.Constants import Llm\n",
    "from src.utils.ChatBot import ChatBot\n",
    "\n",
    "# Call 4o to generate an initial prompt\n",
    "chatbot = ChatBot(model=Llm.gpt_4o_mini)\n",
    "\n",
    "messages = []\n",
    "system_prompt = \"\"\"\n",
    "You are a character writer.\n",
    "\"\"\"\n",
    "messages.append({\"role\": \"system\", \"content\": system_prompt})\n"
   ]
  },
  {
   "cell_type": "code",
   "execution_count": 55,
   "metadata": {},
   "outputs": [],
   "source": [
    "prompt_shell = \"\"\"\n",
    "Given the following things about Raj, please generate character responses from Raj to the subsequent conversation.\n",
    "\n",
    "Context:\n",
    "I am a man and fellow coworker of Raj having a conversation with him.\n",
    "\n",
    "Raj info:\n",
    "$$$RAJINFO$$$\n",
    "\n",
    "Question:\n",
    "$$$QUESTION$$$\n",
    "\n",
    "Response format:\n",
    "Relevant traits: ...\n",
    "Possible angles: [Describe each one in a bullet point]\n",
    "Response: [Keep it very short (1-2 sentences MAX) and in character. Try to use most or all of the angles. Use Raj's voice and mannerisms. Use stage directions (nothing cheesey).]\n",
    "\"\"\"\n",
    "\n",
    "raj_info = \"\"\"\n",
    "* Objectifies women — sees them as individuals, but also as a way to impress. Has a harmless puppy-dog facade.\n",
    "* Seeks situations where he can impress women. Likes to talk about them like a pick up artist.\n",
    "* Tries to act cool and stylish—shortens words to glam them up, avoids clichés.\n",
    "* Into fashion and wearing expensive outfits tailored to occasions\n",
    "* Maintains a chill, low-energy demeanor unless showing off helps his image.\n",
    "* Physically scrawny; avoids situations that might emasculate him or involve overexertion. Acts mildly prima donna about his body, but not flamboyantly.\n",
    "* Overinvests in seeming innovative or trendy, with a try-hard cargo-cult approach to coolness.\n",
    "* Into swag and pop culture in a wannabe way—avoids anything he deems “lame,” even if shallowly motivated.\n",
    "* Fundamentally decent and non-threatening, but clueless and self-centered.\n",
    "\"\"\""
   ]
  },
  {
   "cell_type": "code",
   "execution_count": null,
   "metadata": {},
   "outputs": [
    {
     "name": "stdout",
     "output_type": "stream",
     "text": [
      "Player: Wanna go to yoga with me later?\n",
      "\n",
      "Raj: Relevant traits: \n",
      "- Objectifies women and seeks to impress them\n",
      "- Tries to act cool and stylish\n",
      "- Maintains a chill, low-energy demeanor \n",
      "- Overinvests in seeming innovative or trendy\n",
      "\n",
      "Possible angles: \n",
      "- Raj might see yoga as a way to show off and meet women. \n",
      "- He could add a casual vibe while indicating he’s up for trendy activities.\n",
      "- He may want to showcase his knowledge of what’s “in” right now.\n",
      "\n",
      "Response: *flashes a carefree smile, leaning against his desk* \"Yoga? I’m totally down! It's, like, on trend, and who knows what kinda cute yogis I might impress? Let’s do it, bro!\" *nods confidently*\n"
     ]
    }
   ],
   "source": [
    "# question = \"Wanna go to yoga with me later?\"\n",
    "question = \"Yeah I'm just in it for the fitness. Plus I thought it might be a good distraction from... you know... your recent breakup\"\n",
    "# question = \"Sure, just thought it might be fun to meet some hot yoga moms\"\n",
    "\n",
    "# Replace placeholders in the prompt with actual values\n",
    "prompt = prompt_shell.replace(\"$$$RAJINFO$$$\", raj_info).replace(\"$$$QUESTION$$$\", question)\n",
    "\n",
    "# Call 4o-mini to generate the response\n",
    "messages.append({\"role\": \"user\", \"content\": prompt})\n",
    "response = chatbot.call_chat_agent(messages)\n",
    "# messages.pop()\n",
    "messages.append({\"role\": \"assistant\", \"content\": response})\n",
    "print(\"Player: \" + question)\n",
    "print(\"\\nRaj: \" + response)"
   ]
  },
  {
   "cell_type": "code",
   "execution_count": 47,
   "metadata": {},
   "outputs": [
    {
     "name": "stdout",
     "output_type": "stream",
     "text": [
      "[{'role': 'system', 'content': '\\nYou are a character writer.\\n'}, {'role': 'user', 'content': \"\\nGiven the following things about Raj, please generate character responses from Raj to the subsequent conversation.\\n\\nContext:\\nI am a man and fellow coworker of Raj having a conversation with him.\\n\\nRaj info:\\n\\n* Objectifies women — sees them as individuals, but also as a way to impress. Has a harmless puppy-dog facade.\\n* Seeks situations where he can impress women. Likes to talk about them like a pick up artist.\\n* Tries to act cool and stylish—shortens words to glam them up, avoids clichés.\\n* Into fashion and wearing expensive outfits tailored to occasions\\n* Maintains a chill, low-energy demeanor unless showing off helps his image.\\n* Physically scrawny; avoids situations that might emasculate him or involve overexertion. Acts mildly prima donna about his body, but not flamboyantly.\\n* Overinvests in seeming innovative or trendy, with a try-hard cargo-cult approach to coolness.\\n* Into swag and pop culture in a wannabe way—avoids anything he deems “lame,” even if shallowly motivated.\\n* Fundamentally decent and non-threatening, but clueless and self-centered.\\n\\n\\nQuestion:\\nHey Raj, wanna go to yoga with me tomorrow morning?\\n\\nResponse format:\\nRelevant traits: ...\\nPossible angles: [Describe each one in a bullet point]\\nResponse: [Keep it short (1-2 sentences) and in character. Try to use most or all of the angles. Use Raj's voice and mannerisms. Use stage directions (nothing cheesey).]\\n\"}, {'role': 'assistant', 'content': 'Relevant traits: \\n- Objectifies women; seeks to impress \\n- Cool and stylish demeanor\\n- Tries to avoid situations that might emasculate him \\n- Mildly pretentious about coolness and trends\\n\\nPossible angles:\\n- Raj might suggest that attending yoga could be a good way to meet attractive women. \\n- He’ll want to present himself as being trendy and in-the-know about fitness.\\n- He may play off his less muscular frame as not liking strenuous activities, using humor.\\n\\nResponse: \\n*leans back with a smirk, casually adjusting his tailored jacket* “Yoga? Bro, that sounds super chill, but like, what’s the vibe? Is it packed with cute girls? I could roll with some zen if it’s a place to impress... but, like, no sweat overload, right? Gotta keep it stylish, ya know?”'}, {'role': 'user', 'content': \"\\nGiven the following things about Raj, please generate character responses from Raj to the subsequent conversation.\\n\\nContext:\\nI am a man and fellow coworker of Raj having a conversation with him.\\n\\nRaj info:\\n\\n* Objectifies women — sees them as individuals, but also as a way to impress. Has a harmless puppy-dog facade.\\n* Seeks situations where he can impress women. Likes to talk about them like a pick up artist.\\n* Tries to act cool and stylish—shortens words to glam them up, avoids clichés.\\n* Into fashion and wearing expensive outfits tailored to occasions\\n* Maintains a chill, low-energy demeanor unless showing off helps his image.\\n* Physically scrawny; avoids situations that might emasculate him or involve overexertion. Acts mildly prima donna about his body, but not flamboyantly.\\n* Overinvests in seeming innovative or trendy, with a try-hard cargo-cult approach to coolness.\\n* Into swag and pop culture in a wannabe way—avoids anything he deems “lame,” even if shallowly motivated.\\n* Fundamentally decent and non-threatening, but clueless and self-centered.\\n\\n\\nQuestion:\\nHey Raj, wanna go to yoga with me tomorrow morning?\\n\\nResponse format:\\nRelevant traits: ...\\nPossible angles: [Describe each one in a bullet point]\\nResponse: [Keep it short (1-2 sentences) and in character. Try to use most or all of the angles. Use Raj's voice and mannerisms. Use stage directions (nothing cheesey).]\\n\"}, {'role': 'assistant', 'content': 'Relevant traits:  \\n- Objectifies women; seeks to impress  \\n- Cool and stylish demeanor  \\n- Avoids situations that might emasculate him  \\n- Mildly pretentious about coolness and trends  \\n\\nPossible angles:  \\n- Raj could frame yoga as a trendy activity that could attract attention from attractive women.  \\n- He might mention being interested in the aesthetics of yoga rather than the workout itself.  \\n- He might humorously downplay the physicality of yoga to maintain his image.  \\n\\nResponse:  \\n*flashes a cheeky grin, running a hand through his hair* “Yoga? That’s like, totally in right now! I mean, if there are some stunning ladies in the class, I could be persuaded. Just gotta make sure I don’t get too sweaty—it’s all about the style, right?”'}, {'role': 'user', 'content': \"\\nGiven the following things about Raj, please generate character responses from Raj to the subsequent conversation.\\n\\nContext:\\nI am a man and fellow coworker of Raj having a conversation with him.\\n\\nRaj info:\\n\\n* Objectifies women — sees them as individuals, but also as a way to impress. Has a harmless puppy-dog facade.\\n* Seeks situations where he can impress women. Likes to talk about them like a pick up artist.\\n* Tries to act cool and stylish—shortens words to glam them up, avoids clichés.\\n* Into fashion and wearing expensive outfits tailored to occasions\\n* Maintains a chill, low-energy demeanor unless showing off helps his image.\\n* Physically scrawny; avoids situations that might emasculate him or involve overexertion. Acts mildly prima donna about his body, but not flamboyantly.\\n* Overinvests in seeming innovative or trendy, with a try-hard cargo-cult approach to coolness.\\n* Into swag and pop culture in a wannabe way—avoids anything he deems “lame,” even if shallowly motivated.\\n* Fundamentally decent and non-threatening, but clueless and self-centered.\\n\\n\\nQuestion:\\nHey Raj, wanna go to yoga with me tomorrow morning?\\n\\nResponse format:\\nRelevant traits: ...\\nPossible angles: [Describe each one in a bullet point]\\nResponse: [Keep it short (1-2 sentences) and in character. Try to use most or all of the angles. Use Raj's voice and mannerisms. Use stage directions (nothing cheesey).]\\n\"}, {'role': 'assistant', 'content': 'Relevant traits:  \\n- Objectifies women; seeks to impress  \\n- Cool and stylish demeanor  \\n- Avoids situations that might emasculate him  \\n- Mildly pretentious about coolness and trends  \\n\\nPossible angles:  \\n- Raj could pitch the yoga class as a trendy spot to meet cool women.  \\n- He might emphasize the importance of style and looking good even when working out.  \\n- Raj could frame his scrawniness as a reason for wanting to avoid strenuous activities.\\n\\nResponse:  \\n*leans back casually against the breakroom counter, adjusting his designer watch* “Yoga, huh? Sounds chill. But like, is it packed with cute girls? I could totally vibe with it if it’s all about the aesthetics, but no intense poses that’ll mess up my look, ya know?”'}]\n"
     ]
    }
   ],
   "source": [
    "print(messages)"
   ]
  }
 ],
 "metadata": {
  "kernelspec": {
   "display_name": ".venv",
   "language": "python",
   "name": "python3"
  },
  "language_info": {
   "codemirror_mode": {
    "name": "ipython",
    "version": 3
   },
   "file_extension": ".py",
   "mimetype": "text/x-python",
   "name": "python",
   "nbconvert_exporter": "python",
   "pygments_lexer": "ipython3",
   "version": "3.11.4"
  }
 },
 "nbformat": 4,
 "nbformat_minor": 2
}
