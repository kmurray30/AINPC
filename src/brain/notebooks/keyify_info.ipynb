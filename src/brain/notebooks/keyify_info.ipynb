{
 "cells": [
  {
   "cell_type": "markdown",
   "id": "fe4b586c",
   "metadata": {},
   "source": []
  },
  {
   "cell_type": "code",
   "execution_count": null,
   "id": "eccdefa9",
   "metadata": {},
   "outputs": [
    {
     "name": "stdout",
     "output_type": "stream",
     "text": [
      "Content: Objectifies women — sees them as individuals, but also as a way to impress. Has a harmless puppy-dog facade.\n",
      "\tKey: puppy-dog charm\n",
      "\tKey: objectifying tendencies\n",
      "\tKey: sees women as tools\n",
      "Content: Seeks situations where he can impress women. Likes to talk about them like a pick up artist.\n",
      "\tKey: pickup artist vibes\n",
      "\tKey: impressing women\n",
      "\tKey: flirtatious confidence\n",
      "Content: Into fashion and wearing expensive outfits tailored to occasions\n",
      "\tKey: fashion-forward trendsetter\n",
      "\tKey: luxury style enthusiast\n",
      "\tKey: occasion-specific elegance\n",
      "Content: Physically scrawny; avoids situations that might emasculate him or involve overexertion. Acts mildly prima donna about his body, but not flamboyantly.\n",
      "\tKey: physically scrawny character\n",
      "\tKey: avoids emasculating situations\n",
      "\tKey: mildly prima donna about appearance\n",
      "Content: Judges and avoids anything stereotypically “lame” or nerdy.\n",
      "\tKey: anti-nerd sentiment\n",
      "\tKey: stereotype aversion\n",
      "\tKey: coolness gatekeeper\n"
     ]
    }
   ],
   "source": [
    "# Load the data\n",
    "import json\n",
    "import sys\n",
    "from typing import List\n",
    "\n",
    "sys.path.insert(0, \"../..\")\n",
    "from src.core.Constants import Llm\n",
    "from src.utils.ChatBot import ChatBot\n",
    "\n",
    "# Load the info\n",
    "info_data_path_load = \"entities/raj_info_partial_unkeyed.json\"\n",
    "info_data_path_new = \"entities/raj_info_partial_keyed.json\"\n",
    "with open(info_data_path_load, \"r\") as f:\n",
    "    info_data = json.load(f)\n",
    "\n",
    "# Initialize the chatbot\n",
    "chatbot = ChatBot(model=Llm.gpt_4o_mini)\n",
    "\n",
    "# Set up the agent chat\n",
    "messages = []\n",
    "system_prompt = \"\"\"\n",
    "You will be given a string of content about a character. You will return a list of things about the content \n",
    "\n",
    "Response format:\n",
    "[\n",
    "    \"phrase1\",\n",
    "    \"phrase2\",\n",
    "    ...\n",
    "]\n",
    "\"\"\"\n",
    "messages.append({\"role\": \"system\", \"content\": system_prompt})\n",
    "user_promt_template = \"\"\"\n",
    "Content: $$$CONTENT$$$\n",
    "\"\"\"\n",
    "\n",
    "for entity in info_data:\n",
    "    tags = entity[\"tags\"]\n",
    "    if \"base\" in tags:\n",
    "        continue\n",
    "    \n",
    "    content = entity[\"content\"]\n",
    "\n",
    "    user_prompt = user_promt_template.replace(\"$$$CONTENT$$$\", content)\n",
    "\n",
    "    messages.append({\"role\": \"user\", \"content\": user_prompt})\n",
    "    response = chatbot.call_chat_agent(messages)\n",
    "    messages.pop()\n",
    "\n",
    "    # Extract the list of strings from the json response\n",
    "    response_dict: List[str] = json.loads(response)\n",
    "\n",
    "    print(\"Content: \" + content)\n",
    "    for i, key in enumerate(response_dict):\n",
    "        print(\"\\tKey: \" + key)\n",
    "\n",
    "    entity[\"keys\"] = response_dict\n",
    "\n",
    "# Save the data to a new file\n",
    "with open(info_data_path_new, \"w\") as f:\n",
    "    json.dump(info_data, f, indent=4)"
   ]
  }
 ],
 "metadata": {
  "kernelspec": {
   "display_name": ".venv",
   "language": "python",
   "name": "python3"
  },
  "language_info": {
   "codemirror_mode": {
    "name": "ipython",
    "version": 3
   },
   "file_extension": ".py",
   "mimetype": "text/x-python",
   "name": "python",
   "nbconvert_exporter": "python",
   "pygments_lexer": "ipython3",
   "version": "3.11.4"
  }
 },
 "nbformat": 4,
 "nbformat_minor": 5
}
