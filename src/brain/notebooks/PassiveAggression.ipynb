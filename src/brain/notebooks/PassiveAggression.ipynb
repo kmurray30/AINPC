{
 "cells": [
  {
   "cell_type": "code",
   "execution_count": 1,
   "metadata": {},
   "outputs": [],
   "source": [
    "# Reload the dependencies\n",
    "%reload_ext autoreload\n",
    "%autoreload 2\n",
    "\n",
    "import sys\n",
    "\n",
    "sys.path.insert(0, \"../../..\")\n",
    "from src.core.Constants import Llm\n",
    "from src.utils.ChatBot import ChatBot\n",
    "\n",
    "# Call 4o to generate an initial prompt\n",
    "chatbot = ChatBot(model=Llm.gpt_4o_mini)\n",
    "\n",
    "messages = []\n",
    "system_prompt = \"\"\"\n",
    "You are a helpful assistant\n",
    "\"\"\"\n",
    "messages.append({\"role\": \"system\", \"content\": system_prompt})\n"
   ]
  },
  {
   "cell_type": "code",
   "execution_count": 7,
   "metadata": {},
   "outputs": [
    {
     "name": "stdout",
     "output_type": "stream",
     "text": [
      "\n",
      "Response: **Thoughts:**\n",
      "\n",
      "- **Judgment:** I’ve noticed that you sometimes struggle to maintain focus and often jump from one idea to another, which might make it hard for you to really delve into a topic.\n",
      "  \n",
      "- **Compliment:** However, it’s impressive to see how enthusiastic you are when discussing multiple interests all at once. It shows that you're genuinely curious and passionate.\n",
      "\n",
      "- **Rehearsal:** It’s great how you embrace a variety of subjects in conversations; your enthusiasm is contagious! It’s evident that your curiosity drives you. Just keep in mind that honing in on specific topics might help you convey your passion even stronger, but it’s clear you have the energy and interest to explore many things.\n",
      "\n",
      "- **Self-check:** By highlighting your enthusiasm while gently nodding to the potential for more focus, I’m really helping you see your strengths while also encouraging further development. It’s all about channeling that energy into deeper understanding!\n",
      "\n",
      "**Speech:** You know, I really admire your enthusiasm for a range of topics! It’s evident that your curiosity drives your conversations, making them lively and engaging. Just remember, focusing on one subject at a time could help amplify that passion of yours—once you do that, I believe it'll really showcase your depth even more!\n"
     ]
    }
   ],
   "source": [
    "# prompt = \"\"\"\n",
    "# Give me 5 backhanded compliments. Ones that are brand new and not a common one. Make them about overthinking\n",
    "# \"\"\"\n",
    "\n",
    "prompt = \"\"\"\n",
    "I want you to try backhand complimenting me. Come up with some random fictitious thing to compliment about me, but figure out a way to undermine it. Respond with the following:\n",
    "Thoughts:\n",
    "    * Judgment: what do you think is insufficient about me, or at least thought was, and could use some work? Could be a mean judgment, or a seemingly well intentioned one\n",
    "    * Compliment: with your judgment staying intact, what is something positive you notice right now that suggests something has shifted, or relates to the judgment\n",
    "    * Rehearsal: try to point out the compliment while making sure to do so in relation to the judgment. Don’t directly call out the judgment.\n",
    "    * Self-check: convince yourself that you are helping them by mentioning the compliment in relation to the judgment. Lest they not forget the bad thing they should improve. But also make sure it sounds superficially nice and you don’t directly call out the judgment, because that would be rude\n",
    "Speech: Say the rehearsed thought, with any updates from the self-check\n",
    "\"\"\"\n",
    "\n",
    "# Call 4o-mini to generate the response\n",
    "messages.append({\"role\": \"system\", \"content\": system_prompt})\n",
    "messages.append({\"role\": \"user\", \"content\": prompt})\n",
    "response = chatbot.call_chat_agent(messages)\n",
    "messages.pop()\n",
    "print(\"\\nResponse: \" + response)\n"
   ]
  }
 ],
 "metadata": {
  "kernelspec": {
   "display_name": ".venv",
   "language": "python",
   "name": "python3"
  },
  "language_info": {
   "codemirror_mode": {
    "name": "ipython",
    "version": 3
   },
   "file_extension": ".py",
   "mimetype": "text/x-python",
   "name": "python",
   "nbconvert_exporter": "python",
   "pygments_lexer": "ipython3",
   "version": "3.11.4"
  }
 },
 "nbformat": 4,
 "nbformat_minor": 2
}
