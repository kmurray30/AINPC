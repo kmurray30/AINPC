{
 "cells": [
  {
   "cell_type": "code",
   "execution_count_call_llm
   "metadata": {},
   "outputs": [],
   "source": [
    "# Reload the dependencies\n",
    "%reload_ext autoreload\n",
    "%autoreload 2\n",
    "\n",
    "import sys\n",
    "\n",
    "sys.path.insert(0, \"../..\")\n",
    "from src.core.Constants import Llm\n",
    "from src.utils.ChatBot import ChatBot\n",
    "\n",
    "# Call 4o to generate an initial prompt\n",
    "chatbot = ChatBot(model=Llm.gpt_4o_mini)\n",
    "\n",
    "messages = []\n",
    "\n",
    "system_prompt = \"You are a helpful assistant\"\n",
    "messages.append({\"role\": \"system\", \"content\": system_prompt})"
   ]
  },
  {
   "cell_type": "code",
   "execution_count": 10,
   "metadata": {},
   "outputs": [
    {
     "name": "stdout",
     "output_type": "stream",
     "text": [
      "system: You are a helpful assistant\n",
      "user: Can you give me a list of things the layman commonly associate with yoga?\n",
      "assistant: Certainly! Here’s a list of things that people commonly associate with yoga:\n",
      "\n",
      "1. **Physical Poses (Asanas)**: Various postures and stretches that improve flexibility, strength, and balance.\n",
      "2. **Breathing Techniques (Pranayama)**: Practices that focus on controlled breathing to enhance relaxation and focus.\n",
      "3. **Meditation**: Techniques for achieving mental clarity, relaxation, and mindfulness.\n",
      "4. **Relaxation and Stress Relief**: The ability of yoga to reduce stress and promote a sense of calm.\n",
      "5. **Spirituality**: Connections to Eastern philosophies, self-discovery, and spiritual growth.\n",
      "6. **Wellness and Health**: Benefits for physical health, including improved circulation, posture, and overall well-being.\n",
      "7. **Mindfulness**: The practice of being present and aware, often cultivated through yoga practices.\n",
      "8. **Yoga Mats**: The essential equipment for practicing yoga, often made of non-slip material.\n",
      "9. **Yoga Classes**: Group or individual sessions led by an instructor in studios, gyms, or online.\n",
      "10. **Stretching**: A common aspect of yoga that emphasizes elongating and relaxing muscles.\n",
      "11. **Holistic Health**: The view of health as a balance of mind, body, and spirit that yoga promotes.\n",
      "12. **Yoga Retreats**: Specialized getaways focusing on intensive yoga practice and relaxation.\n",
      "13. **Instructors**: Experienced teachers who guide learners in proper techniques and philosophy.\n",
      "14. **Chakras**: Energy centers in the body that some yoga practices aim to balance and align.\n",
      "15. **Core Strength**: Emphasis on strengthening the core muscles through various poses.\n",
      "16. **Community**: Many people see yoga as a way to connect with others who share similar interests.\n",
      "17. **Yoga Wear**: Comfortable clothing designed for flexibility and performance during practice.\n",
      "18. **Healing**: The use of yoga as a complementary therapy for physical and mental health issues.\n",
      "19. **Eclectic Styles**: Different styles of yoga (Hatha, Vinyasa, Ashtanga, etc.) that cater to varying preferences and abilities.\n",
      "20. **Philosophy**: Schools of thought derived from ancient texts like the Yoga Sutras of Patanjali.\n",
      "\n",
      "These associations can vary depending on individual experiences and cultural contexts, but they provide a good overview of what many people think of when they hear the word \"yoga.\"\n",
      "user: You didn't mention that there are a lot of women there?\n",
      "assistant: You're right! The perception that yoga predominantly attracts women is a common association. Many people observe that yoga classes often have a higher female participation rate compared to male, which can influence their overall view of the practice. This perception can stem from various factors, including cultural norms, marketing strategies, and the focus on wellness and self-care, which often resonates more with women. Thank you for pointing that out, and I appreciate the addition!\n"
     ]
    }
   ],
   "source": [
    "prompt = \"You didn't mention that there are a lot of women there?\"\n",
    "\n",
    "# Call 4o-mini to generate the response\n",
    "messages.append({\"role\": \"user\", \"content\": prompt})\n",
    "response = chatbot.call_chat_agent(messages)\n",
    "messages.append({\"role\": \"assistant\", \"content\": response})\n",
    "\n",
    "for message in messages:\n",
    "    print(f\"{message['role']}: {message['content']}\")"
   ]
  }
 ],
 "metadata": {
  "kernelspec": {
   "display_name": ".venv",
   "language": "python",
   "name": "python3"
  },
  "language_info": {
   "codemirror_mode": {
    "name": "ipython",
    "version": 3
   },
   "file_extension": ".py",
   "mimetype": "text/x-python",
   "name": "python",
   "nbconvert_exporter": "python",
   "pygments_lexer": "ipython3",
   "version": "3.11.4"
  }
 },
 "nbformat": 4,
 "nbformat_minor": 2
}
